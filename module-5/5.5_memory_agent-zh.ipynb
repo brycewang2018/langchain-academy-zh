{
 "cells": [
  {
   "cell_type": "markdown",
   "metadata": {},
   "source": "# Memory Agent\n\n## 回顾\n\n我们创建了一个 chatbot,将语义记忆保存到单一的 [用户 profile](https://langchain-ai.github.io/langgraph/concepts/memory/#profile) 或 [collection](https://langchain-ai.github.io/langgraph/concepts/memory/#collection)。\n\n我们介绍了 [Trustcall](https://github.com/hinthornw/trustcall) 作为更新这两种 schema 的方式。\n\n## 目标\n\n现在,我们将整合之前学到的所有知识点,构建一个具有长期记忆的 [agent](https://langchain-ai.github.io/langgraph/concepts/agentic_concepts/)。\n\n我们的 agent,`task_mAIstro`,将帮助我们管理 ToDo 列表!\n\n我们之前构建的 chatbots *总是*反思对话并保存记忆。\n\n`task_mAIstro` 将决定*何时*保存记忆(将项目添加到我们的 ToDo 列表)。\n\n我们之前构建的 chatbots 总是保存一种类型的记忆,profile 或 collection。\n\n`task_mAIstro` 可以决定保存到用户 profile 或 ToDo 项目的 collection。\n\n除了语义记忆外,`task_mAIstro` 还将管理程序性记忆。\n\n这允许用户更新他们创建 ToDo 项目的偏好设置。"
  },
  {
   "cell_type": "code",
   "execution_count": 19,
   "metadata": {},
   "outputs": [],
   "source": [
    "%%capture --no-stderr\n",
    "%pip install -U langchain_openai langgraph trustcall langchain_core"
   ]
  },
  {
   "cell_type": "code",
   "execution_count": null,
   "metadata": {},
   "outputs": [],
   "source": "import os, getpass\n\ndef _set_env(var: str):\n    \"\"\"\n    辅助函数 - 设置环境变量\n    \n    Python 知识点:\n    - os.environ: Python 的环境变量字典\n    - getpass.getpass(): 安全地提示用户输入密码\n    \"\"\"\n    # 检查环境变量是否已在 OS 环境中设置\n    env_value = os.environ.get(var)\n    if not env_value:\n        # 如果未设置,提示用户输入\n        env_value = getpass.getpass(f\"{var}: \")\n    \n    # 为当前进程设置环境变量\n    os.environ[var] = env_value\n\n# ================== LangSmith 配置 ==================\n_set_env(\"LANGSMITH_API_KEY\")\nos.environ[\"LANGSMITH_TRACING\"] = \"true\"\nos.environ[\"LANGSMITH_PROJECT\"] = \"langchain-academy\""
  },
  {
   "cell_type": "code",
   "execution_count": null,
   "metadata": {},
   "outputs": [],
   "source": [
    "_set_env(\"OPENAI_API_KEY\")"
   ]
  },
  {
   "cell_type": "markdown",
   "metadata": {},
   "source": "## Trustcall 更新的可视化\n\nTrustcall 创建和更新 JSON schemas。\n\n如果我们想要了解 Trustcall 所做的*具体更改*呢?\n\n例如,我们之前看到 Trustcall 有一些自己的 tools 来:\n\n* 从验证失败中自我纠正 -- [查看 trace 示例](https://smith.langchain.com/public/5cd23009-3e05-4b00-99f0-c66ee3edd06e/r/9684db76-2003-443b-9aa2-9a9dbc5498b7) \n* 更新现有文档 -- [查看 trace 示例](https://smith.langchain.com/public/f45bdaf0-6963-4c19-8ec9-f4b7fe0f68ad/r/760f90e1-a5dc-48f1-8c34-79d6a3414ac3)\n\n了解这些 tools 的可见性对于我们要构建的 agent 非常有用。\n\n下面,我们将展示如何实现这一点!"
  },
  {
   "cell_type": "code",
   "execution_count": null,
   "metadata": {},
   "outputs": [],
   "source": "from pydantic import BaseModel, Field\n\n# ================== 定义 Memory Schema (用于演示 Spy) ==================\n\n# 这些 schemas 用于演示 Trustcall Spy 功能\n# 在后面的 agent 实现中会使用更复杂的 schemas\n\nclass Memory(BaseModel):\n    \"\"\"\n    单个记忆条目 - 用于 Trustcall Spy 演示\n    \n    这是一个简单的 schema,用于展示:\n    - Trustcall 如何创建记忆\n    - Trustcall 如何更新记忆\n    - Spy 如何捕获这些操作\n    \"\"\"\n    content: str = Field(\n        description=\"The main content of the memory. For example: User expressed interest in learning about French.\"\n    )\n\nclass MemoryCollection(BaseModel):\n    \"\"\"\n    记忆集合 - 包含多个 Memory\n    \n    用途:\n    - with_structured_output 一次性提取多个记忆\n    - 演示如何处理多个记忆条目\n    \"\"\"\n    memories: list[Memory] = Field(\n        description=\"A list of memories about the user.\"\n    )"
  },
  {
   "cell_type": "markdown",
   "metadata": {},
   "source": "我们可以向 Trustcall extractor 添加一个 [listener](https://python.langchain.com/docs/how_to/lcel_cheatsheet/#add-lifecycle-listeners)。\n\n这将把 extractor 执行过程中的 runs 传递给我们将定义的一个类 `Spy`。\n\n我们的 `Spy` 类将提取关于 Trustcall 进行的 tool calls 的信息。"
  },
  {
   "cell_type": "code",
   "execution_count": null,
   "metadata": {},
   "outputs": [],
   "source": "from trustcall import create_extractor\nfrom langchain_openai import ChatOpenAI\n\n# ================== Spy Class - 监听 Trustcall 的 Tool Calls ==================\n\nclass Spy:\n    \"\"\"\n    Spy 类充当监听器(listener),用于捕获 Trustcall 执行过程中的所有 tool calls\n    \n    LangChain/LCEL 知识点:\n    - Listener: LCEL (LangChain Expression Language) 的一个特性\n    - 可以在 Runnable 的生命周期事件(如 on_start, on_end)上附加回调函数\n    - 用于监控、日志记录、调试等目的\n    \n    Trustcall 知识点:\n    - Trustcall 内部使用多个 tool calls 来创建和更新 schemas\n    - 这些 tool calls 包括:\n      1. Memory/ToDo/Profile: 创建新记忆\n      2. PatchDoc: 更新现有记忆 (使用 JSON Patch)\n      3. 验证和纠错 tools\n    \n    为什么需要 Spy:\n    - 了解 Trustcall 的具体操作\n    - 提取更新计划和变化内容\n    - 向用户展示发生了什么变化\n    - 用于 agent 中告知用户记忆更新情况\n    \"\"\"\n    \n    def __init__(self):\n        \"\"\"\n        初始化 Spy\n        \n        called_tools: 存储所有捕获的 tool calls\n        - 每次 Trustcall 执行后,这里会包含所有 tool calls\n        - 格式: List[List[Dict]] - 外层列表对应每次 chat_model 调用,内层列表是该次调用的 tool calls\n        \"\"\"\n        self.called_tools = []\n\n    def __call__(self, run):\n        \"\"\"\n        回调函数 - 在 Trustcall 执行结束时被调用\n        \n        参数:\n        - run: Run 对象,包含执行的完整信息\n          - run.child_runs: 子 runs 列表\n          - run.run_type: run 的类型 (例如: \"chat_model\", \"tool\", \"chain\")\n          - run.outputs: run 的输出\n        \n        算法: 广度优先搜索 (BFS)\n        - 目的: 遍历整个 run 树,找到所有 chat_model runs\n        - 为什么使用 BFS: Trustcall 的执行形成树状结构,BFS 可以系统地遍历所有节点\n        \"\"\"\n        \n        # Python 数据结构知识点:\n        # - 使用列表作为队列实现 BFS\n        # - q.pop(): 从队列尾部移除元素 (作为栈使用)\n        # - q.extend(): 添加多个元素到队列\n        \n        # 初始化队列,包含根 run\n        q = [run]\n        \n        # BFS 遍历\n        while q:\n            # 从队列中取出一个 run\n            r = q.pop()\n            \n            # 如果有子 runs,添加到队列\n            # 这样可以遍历整个执行树\n            if r.child_runs:\n                q.extend(r.child_runs)\n            \n            # 如果是 chat_model run,提取 tool calls\n            if r.run_type == \"chat_model\":\n                # 从 run 的输出中提取 tool calls\n                # 路径: outputs -> generations -> [0] -> [0] -> message -> kwargs -> tool_calls\n                # \n                # 数据结构:\n                # - outputs: 包含生成结果\n                # - generations: 生成的消息列表\n                # - [0][0]: 第一个 generation 的第一个选项\n                # - message: AIMessage 对象\n                # - kwargs: 消息的关键字参数\n                # - tool_calls: tool call 列表\n                self.called_tools.append(\n                    r.outputs[\"generations\"][0][0][\"message\"][\"kwargs\"][\"tool_calls\"]\n                )\n\n# ================== 初始化组件 ==================\n\n# 初始化 spy 实例\nspy = Spy()\n\n# 初始化 model\nmodel = ChatOpenAI(model=\"gpt-4o\", temperature=0)\n\n# ================== 创建 Trustcall Extractor ==================\n\n# 创建基础 extractor\ntrustcall_extractor = create_extractor(\n    model,\n    tools=[Memory],  # 使用 Memory schema\n    tool_choice=\"Memory\",  # 强制使用 Memory tool\n    enable_inserts=True,  # 允许插入新记忆\n)\n\n# ================== 添加 Listener ==================\n\n# LangChain 知识点:\n# - with_listeners(): Runnable 的方法,用于添加生命周期监听器\n# - on_end: 在 Runnable 执行结束时调用\n# - on_start: 在 Runnable 执行开始时调用\n# - on_error: 在 Runnable 执行出错时调用\n\n# 为 extractor 添加 spy listener\n# - 当 extractor 执行结束时,spy.__call__() 会被调用\n# - spy 会捕获所有 tool calls 并保存到 spy.called_tools\ntrustcall_extractor_see_all_tool_calls = trustcall_extractor.with_listeners(on_end=spy)\n\n# 使用场景:\n# - 在 agent 中,我们需要知道 Trustcall 对 ToDo 列表做了什么更改\n# - 通过 spy.called_tools,我们可以提取这些信息并展示给用户\n# - 例如: \"Document 0 updated: Added deadline 2024-11-30\""
  },
  {
   "cell_type": "code",
   "execution_count": 4,
   "metadata": {},
   "outputs": [],
   "source": [
    "from langchain_core.messages import HumanMessage, SystemMessage, AIMessage\n",
    "\n",
    "# Instruction\n",
    "instruction = \"\"\"Extract memories from the following conversation:\"\"\"\n",
    "\n",
    "# Conversation\n",
    "conversation = [HumanMessage(content=\"Hi, I'm Lance.\"), \n",
    "                AIMessage(content=\"Nice to meet you, Lance.\"), \n",
    "                HumanMessage(content=\"This morning I had a nice bike ride in San Francisco.\")]\n",
    "\n",
    "# Invoke the extractor\n",
    "result = trustcall_extractor.invoke({\"messages\": [SystemMessage(content=instruction)] + conversation})"
   ]
  },
  {
   "cell_type": "code",
   "execution_count": 5,
   "metadata": {},
   "outputs": [
    {
     "name": "stdout",
     "output_type": "stream",
     "text": [
      "==================================\u001b[1m Ai Message \u001b[0m==================================\n",
      "Tool Calls:\n",
      "  Memory (call_NkjwwJGjrgxHzTb7KwD8lTaH)\n",
      " Call ID: call_NkjwwJGjrgxHzTb7KwD8lTaH\n",
      "  Args:\n",
      "    content: Lance had a nice bike ride in San Francisco this morning.\n"
     ]
    }
   ],
   "source": [
    "# Messages contain the tool calls\n",
    "for m in result[\"messages\"]:\n",
    "    m.pretty_print()"
   ]
  },
  {
   "cell_type": "code",
   "execution_count": 6,
   "metadata": {},
   "outputs": [
    {
     "name": "stdout",
     "output_type": "stream",
     "text": [
      "content='Lance had a nice bike ride in San Francisco this morning.'\n"
     ]
    }
   ],
   "source": [
    "# Responses contain the memories that adhere to the schema\n",
    "for m in result[\"responses\"]: \n",
    "    print(m)"
   ]
  },
  {
   "cell_type": "code",
   "execution_count": 7,
   "metadata": {},
   "outputs": [
    {
     "name": "stdout",
     "output_type": "stream",
     "text": [
      "{'id': 'call_NkjwwJGjrgxHzTb7KwD8lTaH'}\n"
     ]
    }
   ],
   "source": [
    "# Metadata contains the tool call  \n",
    "for m in result[\"response_metadata\"]: \n",
    "    print(m)"
   ]
  },
  {
   "cell_type": "code",
   "execution_count": 8,
   "metadata": {},
   "outputs": [
    {
     "data": {
      "text/plain": [
       "[('0',\n",
       "  'Memory',\n",
       "  {'content': 'Lance had a nice bike ride in San Francisco this morning.'})]"
      ]
     },
     "execution_count": 8,
     "metadata": {},
     "output_type": "execute_result"
    }
   ],
   "source": [
    "# Update the conversation\n",
    "updated_conversation = [AIMessage(content=\"That's great, did you do after?\"), \n",
    "                        HumanMessage(content=\"I went to Tartine and ate a croissant.\"),                        \n",
    "                        AIMessage(content=\"What else is on your mind?\"),\n",
    "                        HumanMessage(content=\"I was thinking about my Japan, and going back this winter!\"),]\n",
    "\n",
    "# Update the instruction\n",
    "system_msg = \"\"\"Update existing memories and create new ones based on the following conversation:\"\"\"\n",
    "\n",
    "# We'll save existing memories, giving them an ID, key (tool name), and value\n",
    "tool_name = \"Memory\"\n",
    "existing_memories = [(str(i), tool_name, memory.model_dump()) for i, memory in enumerate(result[\"responses\"])] if result[\"responses\"] else None\n",
    "existing_memories"
   ]
  },
  {
   "cell_type": "code",
   "execution_count": 9,
   "metadata": {},
   "outputs": [],
   "source": [
    "# Invoke the extractor with our updated conversation and existing memories\n",
    "result = trustcall_extractor_see_all_tool_calls.invoke({\"messages\": updated_conversation, \n",
    "                                                        \"existing\": existing_memories})"
   ]
  },
  {
   "cell_type": "code",
   "execution_count": 14,
   "metadata": {},
   "outputs": [
    {
     "name": "stdout",
     "output_type": "stream",
     "text": [
      "{'id': 'call_bF0w0hE4YZmGyDbuJVe1mh5H', 'json_doc_id': '0'}\n",
      "{'id': 'call_fQAxxRypV914Xev6nJ9VKw3X'}\n"
     ]
    }
   ],
   "source": [
    "# Metadata contains the tool call  \n",
    "for m in result[\"response_metadata\"]: \n",
    "    print(m)"
   ]
  },
  {
   "cell_type": "code",
   "execution_count": 10,
   "metadata": {},
   "outputs": [
    {
     "name": "stdout",
     "output_type": "stream",
     "text": [
      "==================================\u001b[1m Ai Message \u001b[0m==================================\n",
      "Tool Calls:\n",
      "  Memory (call_bF0w0hE4YZmGyDbuJVe1mh5H)\n",
      " Call ID: call_bF0w0hE4YZmGyDbuJVe1mh5H\n",
      "  Args:\n",
      "    content: Lance had a nice bike ride in San Francisco this morning. Afterward, he went to Tartine and ate a croissant. He was also thinking about his trip to Japan and going back this winter.\n",
      "  Memory (call_fQAxxRypV914Xev6nJ9VKw3X)\n",
      " Call ID: call_fQAxxRypV914Xev6nJ9VKw3X\n",
      "  Args:\n",
      "    content: Lance went to Tartine and ate a croissant. He was also thinking about his trip to Japan and going back this winter.\n"
     ]
    }
   ],
   "source": [
    "# Messages contain the tool calls\n",
    "for m in result[\"messages\"]:\n",
    "    m.pretty_print()"
   ]
  },
  {
   "cell_type": "code",
   "execution_count": 18,
   "metadata": {},
   "outputs": [
    {
     "name": "stdout",
     "output_type": "stream",
     "text": [
      "content='Lance had a nice bike ride in San Francisco this morning. Afterward, he went to Tartine and ate a croissant. He was also thinking about his trip to Japan and going back this winter.'\n",
      "content='Lance went to Tartine and ate a croissant. He was also thinking about his trip to Japan and going back this winter.'\n"
     ]
    }
   ],
   "source": [
    "# Parsed responses\n",
    "for m in result[\"responses\"]:\n",
    "    print(m)"
   ]
  },
  {
   "cell_type": "code",
   "execution_count": 12,
   "metadata": {},
   "outputs": [
    {
     "data": {
      "text/plain": [
       "[[{'name': 'PatchDoc',\n",
       "   'args': {'json_doc_id': '0',\n",
       "    'planned_edits': '1. Replace the existing content with the updated memory that includes the new activities: going to Tartine for a croissant and thinking about going back to Japan this winter.',\n",
       "    'patches': [{'op': 'replace',\n",
       "      'path': '/content',\n",
       "      'value': 'Lance had a nice bike ride in San Francisco this morning. Afterward, he went to Tartine and ate a croissant. He was also thinking about his trip to Japan and going back this winter.'}]},\n",
       "   'id': 'call_bF0w0hE4YZmGyDbuJVe1mh5H',\n",
       "   'type': 'tool_call'},\n",
       "  {'name': 'Memory',\n",
       "   'args': {'content': 'Lance went to Tartine and ate a croissant. He was also thinking about his trip to Japan and going back this winter.'},\n",
       "   'id': 'call_fQAxxRypV914Xev6nJ9VKw3X',\n",
       "   'type': 'tool_call'}]]"
      ]
     },
     "execution_count": 12,
     "metadata": {},
     "output_type": "execute_result"
    }
   ],
   "source": [
    "# Inspect the tool calls made by Trustcall\n",
    "spy.called_tools"
   ]
  },
  {
   "cell_type": "code",
   "execution_count": null,
   "metadata": {},
   "outputs": [],
   "source": "def extract_tool_info(tool_calls, schema_name=\"Memory\"):\n    \"\"\"\n    从 tool calls 中提取信息,用于 patches 和新记忆\n    \n    功能:\n    - 解析 Spy 捕获的 tool calls\n    - 区分更新操作 (PatchDoc) 和创建操作 (Memory/ToDo/Profile)\n    - 格式化为人类可读的变更说明\n    \n    参数:\n        tool_calls: 来自 model 的 tool calls 列表 (spy.called_tools)\n        schema_name: schema tool 的名称 (例如: \"Memory\", \"ToDo\", \"Profile\")\n    \n    返回:\n        格式化的字符串,描述所有变更\n    \n    使用场景:\n        在 agent 的 write_memory 节点中:\n        1. Spy 捕获 Trustcall 的所有 tool calls\n        2. 调用此函数解析 tool calls\n        3. 将解析结果作为 ToolMessage 返回给 agent\n        4. Agent 可以告知用户具体做了什么更改\n    \"\"\"\n\n    # ================== 初始化变更列表 ==================\n    changes = []\n    \n    # ================== 遍历 Tool Calls ==================\n    # Python 知识点:\n    # - tool_calls 是嵌套列表: [[call1, call2], [call3]]\n    # - 外层列表: 每次 chat_model 调用\n    # - 内层列表: 该次调用的多个 tool calls\n    \n    for call_group in tool_calls:\n        for call in call_group:\n            \n            # ========== 处理 PatchDoc - 更新操作 ==========\n            if call['name'] == 'PatchDoc':\n                # PatchDoc 是 Trustcall 内部用于更新现有文档的 tool\n                # \n                # call['args'] 结构:\n                # - json_doc_id: 被更新文档的 ID\n                # - planned_edits: 更新计划的文字描述\n                # - patches: JSON Patch 操作列表\n                #   - op: 操作类型 (replace, add, remove)\n                #   - path: JSON 路径\n                #   - value: 新值\n                \n                changes.append({\n                    'type': 'update',  # 标记为更新操作\n                    'doc_id': call['args']['json_doc_id'],  # 文档 ID\n                    'planned_edits': call['args']['planned_edits'],  # 更新计划\n                    'value': call['args']['patches'][0]['value']  # 新值\n                })\n                \n            # ========== 处理 Memory/ToDo/Profile - 创建操作 ==========\n            elif call['name'] == schema_name:\n                # 这是创建新记忆的 tool call\n                # call['args']: 新记忆的完整内容\n                \n                changes.append({\n                    'type': 'new',  # 标记为创建操作\n                    'value': call['args']  # 新记忆的内容\n                })\n\n    # ================== 格式化结果 ==================\n    # Python 知识点:\n    # - str.join(): 将列表元素连接为字符串\n    # - 列表推导式: 遍历 changes 并格式化每个变更\n    \n    result_parts = []\n    \n    for change in changes:\n        if change['type'] == 'update':\n            # 格式化更新操作\n            # 输出示例:\n            # \"Document 0 updated:\n            #  Plan: Add a deadline for the task\n            #  Added content: 2024-11-30T23:59:59\"\n            result_parts.append(\n                f\"Document {change['doc_id']} updated:\\n\"\n                f\"Plan: {change['planned_edits']}\\n\"\n                f\"Added content: {change['value']}\"\n            )\n        else:\n            # 格式化创建操作\n            # 输出示例:\n            # \"New Memory created:\n            #  Content: {'content': 'User likes biking'}\"\n            result_parts.append(\n                f\"New {schema_name} created:\\n\"\n                f\"Content: {change['value']}\"\n            )\n    \n    # 用空行连接所有变更\n    return \"\\n\\n\".join(result_parts)\n\n# ================== 演示使用 ==================\n\n# 检查 spy.called_tools 以查看提取过程中发生了什么\n# spy.called_tools 包含 Trustcall 所有的 tool calls\nschema_name = \"Memory\"\n\n# 调用 extract_tool_info 解析 tool calls\nchanges = extract_tool_info(spy.called_tools, schema_name)\n\n# 打印格式化的变更信息\n# 这就是 agent 会展示给用户的信息\nprint(changes)\n\n# 实际输出示例:\n# \"Document 0 updated:\n#  Plan: 1. Replace the existing content with the updated memory...\n#  Added content: Lance had a nice bike ride in San Francisco this morning...\n# \n#  New Memory created:\n#  Content: {'content': 'Lance went to Tartine and ate a croissant...'}\""
  },
  {
   "cell_type": "markdown",
   "metadata": {},
   "source": "## 创建 agent\n\n有许多不同的 [agent](https://langchain-ai.github.io/langgraph/concepts/high_level/) 架构可供选择。\n\n在这里,我们将实现一个简单的架构,[ReAct](https://langchain-ai.github.io/langgraph/concepts/agentic_concepts/#react-implementation) agent。\n\n这个 agent 将成为创建和管理 ToDo 列表的有用助手。\n\n这个 agent 可以决定更新三种类型的长期记忆:\n\n(a) 使用一般用户信息创建或更新用户 `profile`\n\n(b) 在 ToDo 列表 `collection` 中添加或更新项目\n\n(c) 更新其自己关于如何更新 ToDo 列表项目的 `instructions`"
  },
  {
   "cell_type": "code",
   "execution_count": null,
   "metadata": {},
   "outputs": [],
   "source": "from typing import TypedDict, Literal\n\n# ================== UpdateMemory Tool - Agent 的记忆更新决策 ==================\n\nclass UpdateMemory(TypedDict):\n    \"\"\"\n    Agent 用于决定更新哪种类型记忆的 tool\n    \n    Agent 架构知识点:\n    - ReAct Agent: Reason (推理) -> Act (行动)\n    - Agent 需要 tools 来执行具体操作\n    - UpdateMemory 是一个\"元 tool\",用于路由到不同的记忆更新节点\n    \n    工作流程:\n    1. Agent (task_mAIstro) 分析用户消息\n    2. 决定是否需要更新记忆\n    3. 如果需要,调用 UpdateMemory tool 并指定 update_type\n    4. Graph 的路由器 (route_message) 根据 update_type 路由到相应节点:\n       - 'user' -> update_profile 节点\n       - 'todo' -> update_todos 节点\n       - 'instructions' -> update_instructions 节点\n    \n    三种记忆类型:\n    \n    1. 'user' - 用户 Profile (语义记忆)\n       - 内容: 用户的个人信息 (姓名、位置、工作、家庭等)\n       - Schema: Profile (Pydantic model)\n       - 存储: (\"profile\", user_id) namespace\n       - 特点: 单一对象,持续更新\n       - 示例: \"My name is Lance. I live in SF with my wife.\"\n    \n    2. 'todo' - ToDo 列表 (语义记忆 - Collection)\n       - 内容: 任务列表,每个任务包含详细信息\n       - Schema: ToDo (Pydantic model)\n       - 存储: (\"todo\", user_id) namespace\n       - 特点: 多个对象,可以添加、更新、删除\n       - 示例: \"Book swim lessons for the baby\"\n    \n    3. 'instructions' - 创建 ToDo 的指令 (程序性记忆)\n       - 内容: 用户对如何创建 ToDo 的偏好\n       - Schema: 自由文本 (stored as {'memory': str})\n       - 存储: (\"instructions\", user_id) namespace\n       - 特点: 单一对象,指导 agent 行为\n       - 示例: \"Include specific local businesses when creating tasks\"\n    \n    为什么需要这个 Tool:\n    - 让 agent 智能决策: 不是总是保存记忆,而是根据上下文决定\n    - 多类型记忆管理: 一个 agent 管理三种不同的记忆类型\n    - 清晰的路由: 通过 update_type 明确指示应该更新哪种记忆\n    \"\"\"\n    \n    # Literal 类型提示: 限制 update_type 只能是这三个值之一\n    # Python 知识点: Literal 提供编译时类型检查\n    update_type: Literal['user', 'todo', 'instructions']"
  },
  {
   "cell_type": "code",
   "execution_count": 3,
   "metadata": {},
   "outputs": [],
   "source": [
    "_set_env(\"OPENAI_API_KEY\")"
   ]
  },
  {
   "cell_type": "markdown",
   "metadata": {},
   "source": "## Graph 定义\n\n我们添加一个简单的路由器 `route_message`,它做出二进制决策是否保存记忆。\n\n记忆 collection 的更新由 `write_memory` 节点中的 `Trustcall` 处理,和之前一样!"
  },
  {
   "cell_type": "code",
   "execution_count": null,
   "metadata": {},
   "outputs": [],
   "source": "import uuid\nfrom IPython.display import Image, display\n\nfrom datetime import datetime\nfrom trustcall import create_extractor\nfrom typing import Optional\nfrom pydantic import BaseModel, Field\n\nfrom langchain_core.runnables import RunnableConfig\nfrom langchain_core.messages import merge_message_runs, HumanMessage, SystemMessage\n\nfrom langgraph.checkpoint.memory import MemorySaver\nfrom langgraph.graph import StateGraph, MessagesState, END, START\nfrom langgraph.store.base import BaseStore\nfrom langgraph.store.memory import InMemoryStore\n\nfrom langchain_openai import ChatOpenAI\n\n# ================== 初始化 Model ==================\n\n# 使用 GPT-4o 作为核心 model\n# - temperature=0: 确保输出稳定和可预测\nmodel = ChatOpenAI(model=\"gpt-4o\", temperature=0)\n\n# ================================================================================\n# 第一部分: Memory Schemas 定义\n# ================================================================================\n\n\"\"\"\nMemory Agent 管理三种类型的长期记忆:\n\n1. Profile (用户信息) - 语义记忆\n   - 单一对象,持续更新\n   - 存储在 (\"profile\", user_id) namespace\n   - 示例: 姓名、位置、工作、家庭成员\n\n2. ToDo (任务列表) - 语义记忆 (Collection)\n   - 多个对象,可添加、更新、删除\n   - 存储在 (\"todo\", user_id) namespace\n   - 每个任务包含详细信息 (任务、时间、截止日期、解决方案、状态)\n\n3. Instructions (创建 ToDo 的指令) - 程序性记忆\n   - 单一对象,指导 agent 行为\n   - 存储在 (\"instructions\", user_id) namespace\n   - 示例: \"包含具体的本地商家\"\n\n这些记忆通过 Store (InMemoryStore) 跨线程(thread)持久化。\n\"\"\"\n\n# ==================== Profile Schema ====================\n\nclass Profile(BaseModel):\n    \"\"\"\n    用户 Profile Schema - 用于存储用户的个人信息\n    \n    设计思路:\n    - 所有字段都是 Optional: 用户可能逐步提供信息\n    - default=None: 未提供的字段保持为 None\n    - default_factory=list: 列表字段默认为空列表\n    \n    与 ToDo 的区别:\n    - Profile: 单一对象,持续更新 (不使用 enable_inserts)\n    - ToDo: 多个对象,可以添加新的 (使用 enable_inserts=True)\n    \n    Pydantic 知识点:\n    - BaseModel: Pydantic 的基类,提供数据验证和序列化\n    - Field: 为字段添加元数据(description)\n    - Optional[str]: 表示字段可以是 str 或 None\n    \"\"\"\n    name: Optional[str] = Field(\n        description=\"The user's name\",\n        default=None\n    )\n    location: Optional[str] = Field(\n        description=\"The user's location\",\n        default=None\n    )\n    job: Optional[str] = Field(\n        description=\"The user's job\",\n        default=None\n    )\n    connections: list[str] = Field(\n        description=\"Personal connection of the user, such as family members, friends, or coworkers\",\n        default_factory=list  # 默认为空列表\n    )\n    interests: list[str] = Field(\n        description=\"Interests that the user has\",\n        default_factory=list\n    )\n\n# ==================== ToDo Schema ====================\n\nclass ToDo(BaseModel):\n    \"\"\"\n    ToDo Schema - 用于存储单个任务的详细信息\n    \n    设计思路:\n    - task: 必填字段 (没有 Optional)\n    - time_to_complete: Optional - agent 估计完成时间\n    - deadline: Optional - 用户指定的截止日期\n    - solutions: 必填列表 - 至少包含一个解决方案\n    - status: 有默认值的 Literal 类型 - 任务状态\n    \n    为什么需要 solutions 字段:\n    - 让 agent 提供具体的、可操作的建议\n    - 可以包含本地商家、服务提供商、具体方案\n    - 示例: [\"Contact La Petite Baleen Swim School\", \"Check with SF Recreation\"]\n    \n    为什么使用 datetime:\n    - deadline 使用 datetime 类型而非 str\n    - 便于日期计算和比较\n    - Trustcall 会自动处理日期格式转换\n    \n    Pydantic 知识点:\n    - Literal: 限制字段只能是指定的几个值之一\n    - min_items=1: 确保 solutions 至少有一个元素\n    - datetime: Python 标准库的日期时间类型\n    \"\"\"\n    task: str = Field(\n        description=\"The task to be completed.\"\n    )\n    time_to_complete: Optional[int] = Field(\n        description=\"Estimated time to complete the task (minutes).\"\n    )\n    deadline: Optional[datetime] = Field(\n        description=\"When the task needs to be completed by (if applicable)\",\n        default=None\n    )\n    solutions: list[str] = Field(\n        description=\"List of specific, actionable solutions (e.g., specific ideas, service providers, or concrete options relevant to completing the task)\",\n        min_items=1,  # 至少需要一个解决方案\n        default_factory=list\n    )\n    status: Literal[\"not started\", \"in progress\", \"done\", \"archived\"] = Field(\n        description=\"Current status of the task\",\n        default=\"not started\"  # 新任务默认为 not started\n    )\n\n# ================== 创建 Profile Extractor ==================\n\n\"\"\"\n为什么 Profile 和 ToDo 使用不同的 extractor:\n\nProfile Extractor:\n- 不需要 enable_inserts (因为只有一个 profile)\n- 总是更新同一个对象\n\nToDo Extractor:\n- 需要 enable_inserts=True (可以添加多个 todos)\n- 在 update_todos 节点中动态创建 (需要 Spy)\n\n注意:\n- profile_extractor 在这里全局创建\n- todo_extractor 在 update_todos 节点中创建 (因为需要附加 spy listener)\n\"\"\"\n\nprofile_extractor = create_extractor(\n    model,\n    tools=[Profile],  # 只使用 Profile schema\n    tool_choice=\"Profile\",  # 强制使用 Profile tool\n    # 注意: 不需要 enable_inserts (Profile 是单一对象)\n)\n\n# ================================================================================\n# 第二部分: Prompt Templates 定义\n# ================================================================================\n\n# ==================== Agent 主系统提示词 ====================\n\nMODEL_SYSTEM_MESSAGE = \"\"\"You are a helpful chatbot. \n\nYou are designed to be a companion to a user, helping them keep track of their ToDo list.\n\nYou have a long term memory which keeps track of three things:\n1. The user's profile (general information about them) \n2. The user's ToDo list\n3. General instructions for updating the ToDo list\n\nHere is the current User Profile (may be empty if no information has been collected yet):\n<user_profile>\n{user_profile}\n</user_profile>\n\nHere is the current ToDo List (may be empty if no tasks have been added yet):\n<todo>\n{todo}\n</todo>\n\nHere are the current user-specified preferences for updating the ToDo list (may be empty if no preferences have been specified yet):\n<instructions>\n{instructions}\n</instructions>\n\nHere are your instructions for reasoning about the user's messages:\n\n1. Reason carefully about the user's messages as presented below. \n\n2. Decide whether any of the your long-term memory should be updated:\n- If personal information was provided about the user, update the user's profile by calling UpdateMemory tool with type `user`\n- If tasks are mentioned, update the ToDo list by calling UpdateMemory tool with type `todo`\n- If the user has specified preferences for how to update the ToDo list, update the instructions by calling UpdateMemory tool with type `instructions`\n\n3. Tell the user that you have updated your memory, if appropriate:\n- Do not tell the user you have updated the user's profile\n- Tell the user them when you update the todo list\n- Do not tell the user that you have updated instructions\n\n4. Err on the side of updating the todo list. No need to ask for explicit permission.\n\n5. Respond naturally to user user after a tool call was made to save memories, or if no tool call was made.\"\"\"\n\n\"\"\"\nMODEL_SYSTEM_MESSAGE 解读:\n\n设计理念:\n- 让 agent 成为用户的 ToDo 管理伙伴\n- agent 主动决定何时更新记忆 (而非总是更新)\n- 三种记忆类型有不同的更新策略\n\n关键指令分析:\n\n1. \"Reason carefully\" - 强调 ReAct 中的 Reason 部分\n   - Agent 需要分析用户消息\n   - 决定是否包含需要保存的信息\n\n2. \"Decide whether to update\" - 决策逻辑\n   - 个人信息 -> update profile\n   - 任务相关 -> update todos\n   - 偏好设置 -> update instructions\n   - 通过调用 UpdateMemory tool 来路由\n\n3. \"Tell the user\" - 用户体验考虑\n   - Profile 更新: 不告知 (避免打扰)\n   - ToDo 更新: 告知 (用户需要确认)\n   - Instructions 更新: 不告知 (内部设置)\n\n4. \"Err on the side of updating\" - 主动性\n   - 倾向于保存 ToDo (无需明确许可)\n   - 提高 agent 的主动性和实用性\n\n5. \"Respond naturally\" - 对话流畅性\n   - Tool call 之后自然回应\n   - 不要让对话显得机械\n\nPrompt Engineering 技巧:\n- 使用 XML 标签 (<user_profile>, <todo>, <instructions>) 清晰分隔内容\n- 使用编号列表提供清晰的推理步骤\n- 使用 \"if/then\" 结构明确条件逻辑\n- 提供具体的 do/don't 指南\n\"\"\"\n\n# ==================== Trustcall 系统提示词 ====================\n\nTRUSTCALL_INSTRUCTION = \"\"\"Reflect on following interaction. \n\nUse the provided tools to retain any necessary memories about the user. \n\nUse parallel tool calling to handle updates and insertions simultaneously.\n\nSystem Time: {time}\"\"\"\n\n\"\"\"\nTRUSTCALL_INSTRUCTION 解读:\n\n目的:\n- 指导 Trustcall extractor 如何处理对话\n- 提取和更新记忆\n\n关键点:\n\n1. \"Reflect on following interaction\"\n   - Trustcall 需要分析整个对话历史\n   - 提取值得保存的信息\n\n2. \"Use the provided tools\"\n   - tools 是 Pydantic schemas (Profile, ToDo)\n   - Trustcall 会调用这些 tools 来创建/更新记忆\n\n3. \"Use parallel tool calling\"\n   - 同时处理多个更新和插入\n   - 提高效率\n   - 示例: 同时更新一个 ToDo 并创建一个新 ToDo\n\n4. \"System Time: {time}\"\n   - 提供当前时间上下文\n   - 用于处理 deadline 等时间相关字段\n   - datetime.now().isoformat() 格式\n\n为什么需要单独的 Trustcall 指令:\n- Agent 的系统提示词: 处理用户交互和决策\n- Trustcall 指令: 专注于记忆提取和更新\n- 职责分离,提高准确性\n\"\"\"\n\n# ==================== Instructions 更新提示词 ====================\n\nCREATE_INSTRUCTIONS = \"\"\"Reflect on the following interaction.\n\nBased on this interaction, update your instructions for how to update ToDo list items. \n\nUse any feedback from the user to update how they like to have items added, etc.\n\nYour current instructions are:\n\n<current_instructions>\n{current_instructions}\n</current_instructions>\"\"\"\n\n\"\"\"\nCREATE_INSTRUCTIONS 解读:\n\n目的:\n- 让 agent 学习用户的偏好\n- 动态调整 ToDo 创建方式\n- 实现程序性记忆\n\n关键点:\n\n1. \"Reflect on the following interaction\"\n   - 分析用户的反馈和指令\n   - 提取关于偏好的信息\n\n2. \"Update your instructions\"\n   - 不是替换,而是更新\n   - 累积学习用户偏好\n\n3. \"Use any feedback\"\n   - 用户可能显式提供反馈\n   - 示例: \"包含具体的本地商家\"\n   - 示例: \"添加预计完成时间\"\n\n4. 提供 current_instructions 上下文\n   - 让 model 了解现有指令\n   - 避免丢失之前的偏好\n   - 进行增量更新而非重写\n\n使用场景:\n- 用户: \"创建 ToDo 时,包含具体的本地商家\"\n- Agent: 调用 UpdateMemory(update_type='instructions')\n- update_instructions 节点: 使用此提示词更新指令\n- 下次创建 ToDo: Agent 会遵循这个偏好\n\n程序性记忆 vs 语义记忆:\n- 语义记忆 (Profile, ToDo): 事实性信息\n- 程序性记忆 (Instructions): 如何执行任务的知识\n\"\"\"\n\n# ================================================================================\n# 第三部分: Node 定义 - Graph 的核心逻辑\n# ================================================================================\n\n\"\"\"\nMemory Agent Graph 包含 4 个主要节点:\n\n1. task_mAIstro (主 agent 节点)\n   - 与用户交互\n   - 加载所有三种记忆\n   - 决定是否调用 UpdateMemory tool\n\n2. update_profile (更新 profile 节点)\n   - 使用 Trustcall 更新用户信息\n   - 保存到 (\"profile\", user_id) namespace\n\n3. update_todos (更新 todos 节点)\n   - 使用 Trustcall 更新 ToDo 列表\n   - 使用 Spy 捕获变更\n   - 保存到 (\"todo\", user_id) namespace\n\n4. update_instructions (更新指令节点)\n   - 使用 model 生成新指令\n   - 保存到 (\"instructions\", user_id) namespace\n\n+ 1 个条件边:\n- route_message: 根据 UpdateMemory 的 update_type 路由到相应节点\n\"\"\"\n\n# ==================== Node 1: task_mAIstro ====================\n\ndef task_mAIstro(state: MessagesState, config: RunnableConfig, store: BaseStore):\n    \"\"\"\n    主 Agent 节点 - task_mAIstro (任务大师)\n    \n    职责:\n    1. 从 store 加载所有三种长期记忆\n    2. 将记忆格式化为系统提示词\n    3. 调用 model 生成响应\n    4. 决定是否调用 UpdateMemory tool\n    \n    参数:\n        state: MessagesState - 包含对话历史\n        config: RunnableConfig - 包含配置信息 (user_id, thread_id)\n        store: BaseStore - 长期记忆存储\n    \n    返回:\n        字典包含 \"messages\" 键,值为 model 的响应\n    \n    工作流程:\n    用户消息 -> 加载记忆 -> 格式化提示词 -> model 生成响应 -> 返回响应\n                                                        |\n                                                        v\n                                            (可能调用 UpdateMemory tool)\n    \n    LangGraph 知识点:\n    - 所有节点函数都接收 (state, config, store) 三个参数\n    - state: 当前 graph 的状态\n    - config: 运行时配置 (thread_id, user_id 等)\n    - store: 跨线程的持久化存储\n    - 节点返回的字典会更新 state (这里更新 \"messages\")\n    \"\"\"\n\n    # ========== 步骤 1: 获取 user_id ==========\n    # Python 知识点:\n    # - config[\"configurable\"]: 包含用户提供的配置\n    # - 用于构建 namespace,区分不同用户的记忆\n    user_id = config[\"configurable\"][\"user_id\"]\n\n    # ========== 步骤 2: 加载 Profile 记忆 ==========\n    # 为什么使用 search 而非 get:\n    # - search(): 返回 namespace 下的所有项目\n    # - get(): 需要知道具体的 key\n    # - Profile 只有一个项目,但我们不知道 key (可能是 UUID)\n    \n    namespace = (\"profile\", user_id)\n    memories = store.search(namespace)\n    \n    # 处理可能为空的情况\n    if memories:\n        # memories[0]: 第一个 (也是唯一一个) profile\n        # .value: 获取存储的值 (Profile 的字典表示)\n        user_profile = memories[0].value\n    else:\n        # 如果没有 profile,设为 None\n        # 系统提示词会说明 \"may be empty\"\n        user_profile = None\n\n    # ========== 步骤 3: 加载 ToDo 记忆 ==========\n    # Collection 模式: 可能有多个 ToDos\n    \n    namespace = (\"todo\", user_id)\n    memories = store.search(namespace)\n    \n    # Python 知识点:\n    # - 列表推导式: [expression for item in iterable]\n    # - \"\\n\".join(): 用换行符连接多个字符串\n    # - f-string: f\"{mem.value}\" 格式化字符串\n    \n    # 将所有 ToDo 格式化为多行字符串\n    # 示例输出:\n    # {'task': 'Book swim lessons', ...}\n    # {'task': 'Fix Yale lock', ...}\n    todo = \"\\n\".join(f\"{mem.value}\" for mem in memories)\n\n    # ========== 步骤 4: 加载 Instructions 记忆 ==========\n    # Instructions 是单一对象,类似 Profile\n    \n    namespace = (\"instructions\", user_id)\n    memories = store.search(namespace)\n    \n    if memories:\n        instructions = memories[0].value\n    else:\n        # 如果没有指令,设为空字符串\n        instructions = \"\"\n    \n    # ========== 步骤 5: 格式化系统提示词 ==========\n    # 将三种记忆插入到 MODEL_SYSTEM_MESSAGE 模板中\n    system_msg = MODEL_SYSTEM_MESSAGE.format(\n        user_profile=user_profile,\n        todo=todo,\n        instructions=instructions\n    )\n\n    # ========== 步骤 6: 调用 Model ==========\n    # LangChain 知识点:\n    # - bind_tools(): 为 model 绑定 tools\n    # - parallel_tool_calls=False: 一次只调用一个 tool\n    #   (确保 UpdateMemory 调用是顺序的)\n    \n    # 为什么只绑定 UpdateMemory:\n    # - task_mAIstro 只需要决定更新哪种记忆\n    # - 具体的记忆提取由各个 update 节点处理\n    # - UpdateMemory 是\"路由 tool\",用于决策\n    \n    # 消息列表构成:\n    # [SystemMessage(系统提示词), ...对话历史...]\n    response = model.bind_tools(\n        [UpdateMemory],\n        parallel_tool_calls=False  # 顺序调用\n    ).invoke([SystemMessage(content=system_msg)] + state[\"messages\"])\n\n    # ========== 步骤 7: 返回响应 ==========\n    # LangGraph 知识点:\n    # - 返回字典的 key 必须是 state schema 中的字段\n    # - MessagesState 有 \"messages\" 字段\n    # - 返回的 messages 会追加到 state[\"messages\"]\n    return {\"messages\": [response]}\n\n# ==================== Node 2: update_profile ====================\n\ndef update_profile(state: MessagesState, config: RunnableConfig, store: BaseStore):\n    \"\"\"\n    更新 Profile 节点\n    \n    职责:\n    1. 从 store 加载现有 profile\n    2. 格式化为 Trustcall 需要的格式\n    3. 调用 profile_extractor 更新 profile\n    4. 保存更新后的 profile 到 store\n    5. 返回 ToolMessage 给 task_mAIstro\n    \n    工作流程:\n    task_mAIstro 调用 UpdateMemory(update_type='user')\n                    ↓\n            route_message 路由到此节点\n                    ↓\n            加载现有 profile\n                    ↓\n            调用 Trustcall extractor\n                    ↓\n            保存更新后的 profile\n                    ↓\n            返回 ToolMessage\n                    ↓\n            返回 task_mAIstro\n    \n    为什么返回 ToolMessage:\n    - task_mAIstro 调用了 UpdateMemory tool\n    - LangChain 要求每个 tool call 都有对应的 ToolMessage\n    - 这样 model 知道 tool 已执行完毕\n    - task_mAIstro 可以基于此生成最终响应\n    \"\"\"\n    \n    # ========== 步骤 1: 获取 user_id ==========\n    user_id = config[\"configurable\"][\"user_id\"]\n\n    # ========== 步骤 2: 定义 namespace ==========\n    # Profile 存储在 (\"profile\", user_id)\n    namespace = (\"profile\", user_id)\n\n    # ========== 步骤 3: 检索现有 Profile ==========\n    existing_items = store.search(namespace)\n\n    # ========== 步骤 4: 格式化为 Trustcall 格式 ==========\n    # Trustcall 的 \"existing\" 参数需要特定格式:\n    # List[(key, tool_name, value)]\n    #\n    # - key: 文档的唯一标识符 (UUID 或自定义 ID)\n    # - tool_name: schema 的名称 (这里是 \"Profile\")\n    # - value: 文档的内容 (字典)\n    #\n    # 为什么需要这个格式:\n    # - Trustcall 需要知道哪些文档已存在\n    # - 对于已存在的文档,使用 PatchDoc 更新\n    # - 对于不存在的文档,创建新的\n    \n    tool_name = \"Profile\"\n    \n    # Python 知识点:\n    # - 条件表达式: value if condition else other_value\n    # - 列表推导式: [(expr) for item in list]\n    existing_memories = (\n        [(existing_item.key, tool_name, existing_item.value)\n         for existing_item in existing_items]\n        if existing_items  # 如果有现有项目\n        else None  # 否则为 None\n    )\n\n    # ========== 步骤 5: 准备 Trustcall 的输入消息 ==========\n    # LangChain 知识点:\n    # - merge_message_runs(): 合并连续的相同类型消息\n    #   - 例如: [HumanMessage, HumanMessage] -> [HumanMessage]\n    #   - 避免 API 错误 (一些 API 不允许连续相同类型)\n    #\n    # 为什么使用 state[\"messages\"][:-1]:\n    # - state[\"messages\"][-1] 是 task_mAIstro 的响应\n    # - 包含 UpdateMemory tool call\n    # - Trustcall 不需要这个,只需要用户对话\n    # - 我们只提取用户提供的信息\n    \n    # 格式化 Trustcall 指令,插入当前时间\n    TRUSTCALL_INSTRUCTION_FORMATTED = TRUSTCALL_INSTRUCTION.format(\n        time=datetime.now().isoformat()  # ISO 8601 格式: 2024-11-04T13:30:00\n    )\n    \n    # 构建消息列表:\n    # [SystemMessage(Trustcall 指令), ...对话历史(不含最后一条)...]\n    updated_messages = list(\n        merge_message_runs(\n            messages=[SystemMessage(content=TRUSTCALL_INSTRUCTION_FORMATTED)] + \n                     state[\"messages\"][:-1]\n        )\n    )\n\n    # ========== 步骤 6: 调用 Trustcall Extractor ==========\n    # profile_extractor 在全局已创建\n    # 参数:\n    # - messages: 用于提取的对话\n    # - existing: 现有的 profile (如果有)\n    result = profile_extractor.invoke({\n        \"messages\": updated_messages,\n        \"existing\": existing_memories\n    })\n\n    # ========== 步骤 7: 保存到 Store ==========\n    # Python 知识点:\n    # - zip(): 并行迭代多个列表\n    #   - zip([1,2], ['a','b']) -> [(1,'a'), (2,'b')]\n    #\n    # result 结构:\n    # - result[\"responses\"]: Profile 对象列表\n    # - result[\"response_metadata\"]: 元数据列表 (包含 ID)\n    #\n    # 为什么需要 json_doc_id:\n    # - 如果是更新操作,json_doc_id 是现有文档的 ID\n    # - 如果是创建操作,没有 json_doc_id,生成新 UUID\n    # - rmeta.get(\"json_doc_id\", str(uuid.uuid4()))\n    #   - 如果有 json_doc_id,使用它\n    #   - 否则生成新 UUID\n    \n    for r, rmeta in zip(result[\"responses\"], result[\"response_metadata\"]):\n        store.put(\n            namespace,  # (\"profile\", user_id)\n            rmeta.get(\"json_doc_id\", str(uuid.uuid4())),  # key\n            r.model_dump(mode=\"json\"),  # value (Profile 的字典)\n        )\n    \n    # ========== 步骤 8: 返回 ToolMessage ==========\n    # LangChain 知识点:\n    # - ToolMessage: tool 执行结果的消息类型\n    # - 必须包含:\n    #   - role: \"tool\"\n    #   - content: 执行结果 (字符串)\n    #   - tool_call_id: 对应的 tool call 的 ID\n    #\n    # 如何获取 tool_call_id:\n    # - state['messages'][-1]: task_mAIstro 的最后一条消息\n    # - .tool_calls: 该消息中的所有 tool calls\n    # - [0]: 第一个 tool call (UpdateMemory)\n    # - ['id']: tool call 的 ID\n    \n    tool_calls = state['messages'][-1].tool_calls\n    \n    # 返回简单的确认消息\n    # agent 不会告知用户 profile 已更新 (根据系统提示词)\n    return {\"messages\": [\n        {\n            \"role\": \"tool\",\n            \"content\": \"updated profile\",  # 简单确认\n            \"tool_call_id\": tool_calls[0]['id']  # 关联到 tool call\n        }\n    ]}\n\n# ==================== Node 3: update_todos ====================\n\ndef update_todos(state: MessagesState, config: RunnableConfig, store: BaseStore):\n    \"\"\"\n    更新 ToDo 列表节点\n    \n    职责:\n    1. 从 store 加载现有 todos\n    2. 创建 todo_extractor (带 Spy listener)\n    3. 调用 extractor 更新 todos\n    4. 保存更新后的 todos 到 store\n    5. 使用 Spy 提取变更信息\n    6. 返回详细的 ToolMessage 给 task_mAIstro\n    \n    与 update_profile 的主要区别:\n    1. 使用 enable_inserts=True (允许添加新 todos)\n    2. 使用 Spy listener 捕获变更\n    3. 返回详细的变更描述 (而非简单的 \"updated\")\n    \n    为什么 todo_extractor 在这里创建:\n    - 每次调用都需要新的 Spy 实例\n    - Spy 需要附加到 extractor 的 listener\n    - 而 profile_extractor 不需要 Spy,可以全局创建\n    \"\"\"\n    \n    # ========== 步骤 1: 获取 user_id ==========\n    user_id = config[\"configurable\"][\"user_id\"]\n\n    # ========== 步骤 2: 定义 namespace ==========\n    namespace = (\"todo\", user_id)\n\n    # ========== 步骤 3: 检索现有 ToDos ==========\n    existing_items = store.search(namespace)\n\n    # ========== 步骤 4: 格式化为 Trustcall 格式 ==========\n    tool_name = \"ToDo\"  # 注意: 这里是 \"ToDo\" 而非 \"Profile\"\n    \n    existing_memories = (\n        [(existing_item.key, tool_name, existing_item.value)\n         for existing_item in existing_items]\n        if existing_items\n        else None\n    )\n\n    # ========== 步骤 5: 准备 Trustcall 的输入消息 ==========\n    TRUSTCALL_INSTRUCTION_FORMATTED = TRUSTCALL_INSTRUCTION.format(\n        time=datetime.now().isoformat()\n    )\n    \n    updated_messages = list(\n        merge_message_runs(\n            messages=[SystemMessage(content=TRUSTCALL_INSTRUCTION_FORMATTED)] + \n                     state[\"messages\"][:-1]\n        )\n    )\n\n    # ========== 步骤 6: 初始化 Spy ==========\n    # 为什么每次都创建新 Spy:\n    # - Spy.called_tools 会累积 tool calls\n    # - 每次调用需要清空的 Spy\n    # - 避免混淆不同调用的 tool calls\n    spy = Spy()\n    \n    # ========== 步骤 7: 创建 ToDo Extractor (带 Spy) ==========\n    # 为什么不在全局创建:\n    # - 需要附加新的 Spy listener\n    # - 每次调用的 Spy 不同\n    \n    # 与 profile_extractor 的区别:\n    # - enable_inserts=True: 允许添加新 todos\n    # - .with_listeners(on_end=spy): 附加 Spy listener\n    todo_extractor = create_extractor(\n        model,\n        tools=[ToDo],  # 使用 ToDo schema\n        tool_choice=tool_name,  # 强制使用 ToDo tool\n        enable_inserts=True  # ✅ 关键区别: 允许插入新记忆\n    ).with_listeners(on_end=spy)  # ✅ 附加 Spy listener\n\n    # ========== 步骤 8: 调用 Trustcall Extractor ==========\n    result = todo_extractor.invoke({\n        \"messages\": updated_messages,\n        \"existing\": existing_memories\n    })\n\n    # ========== 步骤 9: 保存到 Store ==========\n    # 与 update_profile 逻辑相同\n    for r, rmeta in zip(result[\"responses\"], result[\"response_metadata\"]):\n        store.put(\n            namespace,\n            rmeta.get(\"json_doc_id\", str(uuid.uuid4())),\n            r.model_dump(mode=\"json\"),\n        )\n        \n    # ========== 步骤 10: 提取 Tool Calls (使用 Spy) ==========\n    # 这是 update_todos 的关键区别点!\n    \n    # 获取 tool_call_id\n    tool_calls = state['messages'][-1].tool_calls\n\n    # ✅ 使用之前定义的 extract_tool_info 函数\n    # - spy.called_tools: Spy 捕获的所有 tool calls\n    # - tool_name: \"ToDo\"\n    # - 返回格式化的变更描述\n    todo_update_msg = extract_tool_info(spy.called_tools, tool_name)\n    \n    # 示例输出:\n    # \"New ToDo created:\n    #  Content: {'task': 'Book swim lessons', ...}\n    # \n    #  Document 0 updated:\n    #  Plan: Add a deadline for the task\n    #  Added content: 2024-11-30T23:59:59\"\n    \n    # ========== 步骤 11: 返回详细的 ToolMessage ==========\n    # 与 update_profile 的区别:\n    # - content 不是简单的 \"updated todos\"\n    # - 而是详细的变更描述\n    # - task_mAIstro 可以将这些信息告知用户\n    return {\"messages\": [\n        {\n            \"role\": \"tool\",\n            \"content\": todo_update_msg,  # ✅ 详细的变更描述\n            \"tool_call_id\": tool_calls[0]['id']\n        }\n    ]}\n\n# ==================== Node 4: update_instructions ====================\n\ndef update_instructions(state: MessagesState, config: RunnableConfig, store: BaseStore):\n    \"\"\"\n    更新 Instructions 节点\n    \n    职责:\n    1. 从 store 加载现有 instructions\n    2. 使用 CREATE_INSTRUCTIONS 提示词\n    3. 调用 model 生成新 instructions\n    4. 覆盖 store 中的 instructions\n    5. 返回 ToolMessage 给 task_mAIstro\n    \n    与其他 update 节点的主要区别:\n    1. **不使用 Trustcall**: 直接调用 model\n    2. **不使用 Pydantic schema**: instructions 是自由文本\n    3. **覆盖而非更新**: 使用固定的 key\n    \n    为什么不使用 Trustcall:\n    - Instructions 是自由格式的文本\n    - 不需要结构化提取\n    - Model 可以直接生成更新后的 instructions\n    \"\"\"\n    \n    # ========== 步骤 1: 获取 user_id ==========\n    user_id = config[\"configurable\"][\"user_id\"]\n    \n    # ========== 步骤 2: 定义 namespace ==========\n    namespace = (\"instructions\", user_id)\n\n    # ========== 步骤 3: 获取现有 Instructions ==========\n    # 为什么使用 get 而非 search:\n    # - Instructions 使用固定的 key: \"user_instructions\"\n    # - get(namespace, key): 直接通过 key 获取\n    # - 比 search 更高效\n    \n    # BaseStore.get() 返回:\n    # - 如果存在: Item 对象 (有 .value 属性)\n    # - 如果不存在: None\n    existing_memory = store.get(namespace, \"user_instructions\")\n        \n    # ========== 步骤 4: 格式化系统提示词 ==========\n    # 插入现有 instructions (如果有)\n    system_msg = CREATE_INSTRUCTIONS.format(\n        current_instructions=existing_memory.value if existing_memory else None\n    )\n    \n    # ========== 步骤 5: 调用 Model 生成新 Instructions ==========\n    # LangChain 知识点:\n    # - 直接调用 model.invoke(),不使用 bind_tools\n    # - 不需要 tools,只需要生成文本\n    #\n    # 消息列表构成:\n    # [\n    #   SystemMessage(CREATE_INSTRUCTIONS 提示词),\n    #   ...对话历史(不含最后一条)...,\n    #   HumanMessage(\"Please update the instructions based on the conversation\")\n    # ]\n    #\n    # 为什么添加额外的 HumanMessage:\n    # - 明确指示 model 需要做什么\n    # - 触发 model 生成 instructions\n    new_memory = model.invoke(\n        [SystemMessage(content=system_msg)] + \n        state['messages'][:-1] +  # 对话历史 (不含 UpdateMemory tool call)\n        [HumanMessage(content=\"Please update the instructions based on the conversation\")]\n    )\n    \n    # new_memory 是 AIMessage\n    # new_memory.content 是生成的 instructions 文本\n\n    # ========== 步骤 6: 保存到 Store ==========\n    # 关键区别:\n    # - 使用固定的 key: \"user_instructions\"\n    # - 存储格式: {\"memory\": str}\n    # - 每次都覆盖 (不是追加或更新)\n    \n    key = \"user_instructions\"\n    \n    # BaseStore.put() 参数:\n    # - namespace: (\"instructions\", user_id)\n    # - key: \"user_instructions\"\n    # - value: {\"memory\": instructions_text}\n    store.put(namespace, key, {\"memory\": new_memory.content})\n    \n    # ========== 步骤 7: 返回 ToolMessage ==========\n    tool_calls = state['messages'][-1].tool_calls\n    \n    # 返回简单确认\n    # agent 不会告知用户 instructions 已更新 (根据系统提示词)\n    return {\"messages\": [\n        {\n            \"role\": \"tool\",\n            \"content\": \"updated instructions\",\n            \"tool_call_id\": tool_calls[0]['id']\n        }\n    ]}\n\n# ================================================================================\n# 第四部分: Conditional Edge - 路由逻辑\n# ================================================================================\n\n# ==================== Conditional Edge: route_message ====================\n\ndef route_message(\n    state: MessagesState,\n    config: RunnableConfig,\n    store: BaseStore\n) -> Literal[END, \"update_todos\", \"update_instructions\", \"update_profile\"]:\n    \"\"\"\n    条件边 - 根据 UpdateMemory tool call 路由到相应节点\n    \n    职责:\n    1. 检查 task_mAIstro 是否调用了 UpdateMemory tool\n    2. 如果调用了,根据 update_type 路由到相应节点\n    3. 如果没调用,结束对话\n    \n    参数:\n        state: 当前 graph 状态\n        config: 运行时配置\n        store: 持久化存储\n    \n    返回:\n        Literal 类型: END 或节点名称\n        - END: 结束 graph 执行\n        - \"update_profile\": 路由到 update_profile 节点\n        - \"update_todos\": 路由到 update_todos 节点\n        - \"update_instructions\": 路由到 update_instructions 节点\n    \n    LangGraph 知识点:\n    - Conditional Edge: 根据函数返回值动态路由\n    - 返回值必须是 Literal 类型 (类型安全)\n    - END: LangGraph 的特殊节点,表示结束\n    \n    工作流程:\n    task_mAIstro -> route_message -> (END / update_profile / update_todos / update_instructions)\n                                            |              |              |               |\n                                            v              v              v               v\n                                          结束    回 task_mAIstro  回 task_mAIstro  回 task_mAIstro\n    \"\"\"\n    \n    # ========== 步骤 1: 获取最后一条消息 ==========\n    # state['messages'][-1]: task_mAIstro 的响应\n    message = state['messages'][-1]\n    \n    # ========== 步骤 2: 检查是否有 Tool Calls ==========\n    # AIMessage 知识点:\n    # - .tool_calls: 列表,包含该消息中的所有 tool calls\n    # - 如果没有 tool calls,列表为空 (len() == 0)\n    # - 如果有 tool calls,每个元素是字典:\n    #   {\n    #     'name': 'UpdateMemory',\n    #     'args': {'update_type': 'user'},\n    #     'id': 'call_xxx'\n    #   }\n    \n    if len(message.tool_calls) == 0:\n        # 没有 tool calls -> agent 决定不更新记忆 -> 结束对话\n        return END\n    else:\n        # ========== 步骤 3: 提取 Tool Call ==========\n        # 只取第一个 tool call (因为 parallel_tool_calls=False)\n        tool_call = message.tool_calls[0]\n        \n        # ========== 步骤 4: 根据 update_type 路由 ==========\n        # tool_call['args']: UpdateMemory 的参数字典\n        # tool_call['args']['update_type']: 'user' / 'todo' / 'instructions'\n        \n        if tool_call['args']['update_type'] == \"user\":\n            # 用户信息 -> update_profile\n            return \"update_profile\"\n        \n        elif tool_call['args']['update_type'] == \"todo\":\n            # ToDo 任务 -> update_todos\n            return \"update_todos\"\n        \n        elif tool_call['args']['update_type'] == \"instructions\":\n            # 偏好设置 -> update_instructions\n            return \"update_instructions\"\n        \n        else:\n            # 意外的 update_type -> 抛出错误\n            # 这不应该发生 (因为 Literal 类型限制)\n            raise ValueError(f\"Unknown update_type: {tool_call['args']['update_type']}\")\n\n# ================================================================================\n# 第五部分: Graph 构建 - 组装整个 Memory Agent\n# ================================================================================\n\n\"\"\"\nGraph 架构总览:\n\n        START\n          ↓\n    task_mAIstro  ←──────┐\n          ↓               │\n    route_message         │\n       ↙  ↓  ↘           │\n      /   |   \\          │\n     /    |    \\         │\nupdate  update  update   │\nprofile todos  instructions\n     \\    |    /         │\n      \\   |   /          │\n       ↘  ↓  ↙           │\n    task_mAIstro ─────────┘\n          ↓\n         END\n\n说明:\n1. 从 START 开始,进入 task_mAIstro\n2. task_mAIstro 分析消息,可能调用 UpdateMemory tool\n3. route_message 检查是否有 tool call:\n   - 如果没有 -> END (结束)\n   - 如果有 -> 根据 update_type 路由\n4. 三个 update 节点更新对应的记忆\n5. update 节点完成后,返回 task_mAIstro\n6. task_mAIstro 生成最终响应,再次经过 route_message\n7. 这次没有 tool call (已处理完),route_message 返回 END\n\n为什么 update 节点返回 task_mAIstro:\n- update 节点只返回 ToolMessage\n- ToolMessage 不是用户可见的响应\n- task_mAIstro 需要基于 ToolMessage 生成用户响应\n- 例如: \"I've updated your ToDo list with...\"\n\"\"\"\n\n# ========== 步骤 1: 创建 StateGraph ==========\n# LangGraph 知识点:\n# - StateGraph: LangGraph 的核心类\n# - 参数: State schema (这里是 MessagesState)\n# - MessagesState: 包含 \"messages\" 字段的预定义 state\nbuilder = StateGraph(MessagesState)\n\n# ========== 步骤 2: 添加节点 ==========\n# LangGraph 知识点:\n# - add_node(name, function): 添加节点\n#   - name: 可以省略,默认使用函数名\n#   - function: 节点函数\n# - 节点函数签名: (state, config, store) -> dict\nbuilder.add_node(task_mAIstro)  # 主 agent 节点\nbuilder.add_node(update_todos)  # 更新 todos 节点\nbuilder.add_node(update_profile)  # 更新 profile 节点\nbuilder.add_node(update_instructions)  # 更新 instructions 节点\n\n# ========== 步骤 3: 添加边 ==========\n# LangGraph 知识点:\n# - add_edge(from, to): 添加固定边\n#   - graph 从 from 节点自动流向 to 节点\n# - add_conditional_edges(from, function): 添加条件边\n#   - function 返回值决定流向哪个节点\n\n# START -> task_mAIstro: 总是从 task_mAIstro 开始\nbuilder.add_edge(START, \"task_mAIstro\")\n\n# task_mAIstro -> route_message: 由 route_message 决定下一步\n# route_message 可能返回: END / \"update_profile\" / \"update_todos\" / \"update_instructions\"\nbuilder.add_conditional_edges(\"task_mAIstro\", route_message)\n\n# update_todos -> task_mAIstro: 更新完 todos 后,回到 task_mAIstro\nbuilder.add_edge(\"update_todos\", \"task_mAIstro\")\n\n# update_profile -> task_mAIstro: 更新完 profile 后,回到 task_mAIstro\nbuilder.add_edge(\"update_profile\", \"task_mAIstro\")\n\n# update_instructions -> task_mAIstro: 更新完 instructions 后,回到 task_mAIstro\nbuilder.add_edge(\"update_instructions\", \"task_mAIstro\")\n\n# ========== 步骤 4: 初始化存储 ==========\n\n# 长期记忆 (跨线程) - InMemoryStore\n# LangGraph 知识点:\n# - InMemoryStore: 内存中的 key-value 存储\n# - 支持 namespace,用于组织不同类型的记忆\n# - put(namespace, key, value): 存储\n# - get(namespace, key): 获取\n# - search(namespace): 搜索 namespace 下的所有项目\n#\n# 为什么叫 \"across_thread_memory\":\n# - 这是长期记忆,跨越不同的 thread (会话)\n# - 即使创建新 thread,仍可访问此存储\n# - 示例: 用户的 profile 在所有会话中共享\nacross_thread_memory = InMemoryStore()\n\n# 短期记忆 (线程内) - MemorySaver\n# LangGraph 知识点:\n# - MemorySaver: LangGraph 的 checkpointer\n# - 保存 graph 的执行状态 (包括 messages)\n# - 每个 thread_id 有独立的 checkpoint\n# - 用于对话历史和会话状态\n#\n# 为什么叫 \"within_thread_memory\":\n# - 这是短期记忆,仅在单个 thread (会话) 内\n# - 每个 thread 有独立的对话历史\n# - 切换到新 thread,对话历史不共享\nwithin_thread_memory = MemorySaver()\n\n# ========== 步骤 5: 编译 Graph ==========\n# LangGraph 知识点:\n# - compile(): 将 builder 编译为可执行的 graph\n# - 参数:\n#   - checkpointer: 短期记忆 (对话历史)\n#   - store: 长期记忆 (跨会话数据)\n# - 返回: CompiledGraph 对象,可以 invoke() 或 stream()\ngraph = builder.compile(\n    checkpointer=within_thread_memory,  # 对话历史\n    store=across_thread_memory  # 长期记忆\n)\n\n# ========== 步骤 6: 可视化 Graph ==========\n# LangGraph 知识点:\n# - get_graph(): 获取 graph 的可视化表示\n# - xray=1: 显示内部节点结构\n# - draw_mermaid_png(): 生成 Mermaid 图表的 PNG\n#\n# IPython 知识点:\n# - display(): 在 Jupyter notebook 中显示内容\n# - Image(): 显示图片\ndisplay(Image(graph.get_graph(xray=1).draw_mermaid_png()))\n\n\"\"\"\n总结: Memory Agent 的完整架构\n\n1. **三种记忆类型**:\n   - Profile: 用户信息 (单一对象)\n   - ToDo: 任务列表 (Collection)\n   - Instructions: 创建 ToDo 的偏好 (程序性记忆)\n\n2. **双重记忆系统**:\n   - 短期记忆 (MemorySaver): 对话历史,线程内\n   - 长期记忆 (InMemoryStore): 跨线程数据\n\n3. **四个核心节点**:\n   - task_mAIstro: 主 agent,加载记忆,决策\n   - update_profile: 更新用户信息\n   - update_todos: 更新任务列表 (使用 Spy)\n   - update_instructions: 更新偏好设置\n\n4. **智能路由**:\n   - UpdateMemory tool: agent 用于表达更新意图\n   - route_message: 根据 update_type 路由到相应节点\n\n5. **Trustcall 集成**:\n   - Profile: 单一对象,不使用 enable_inserts\n   - ToDo: Collection,使用 enable_inserts=True\n   - Instructions: 不使用 Trustcall,直接调用 model\n\n6. **可见性 (Spy)**:\n   - 捕获 Trustcall 的 tool calls\n   - 提取变更信息展示给用户\n   - 增强用户体验和透明度\n\n7. **ReAct 模式**:\n   - Reason: task_mAIstro 分析消息\n   - Act: 调用 UpdateMemory tool\n   - 路由到 update 节点执行操作\n   - 返回 task_mAIstro 生成响应\n\n这个 Memory Agent 整合了 Module 5 的所有概念:\n- Profile vs Collection\n- Trustcall with/without enable_inserts\n- Spy listener for visibility\n- Dual memory system (checkpointer + store)\n- Multi-type memory management\n- ReAct agent architecture\n\n它是一个功能完整的 ToDo 管理助手,可以:\n- 记住用户信息\n- 管理任务列表\n- 学习用户偏好\n- 跨会话保持记忆\n\"\"\""
  },
  {
   "cell_type": "code",
   "execution_count": 23,
   "metadata": {},
   "outputs": [
    {
     "name": "stdout",
     "output_type": "stream",
     "text": [
      "================================\u001b[1m Human Message \u001b[0m=================================\n",
      "\n",
      "My name is Lance. I live in SF with my wife. I have a 1 year old daughter.\n",
      "==================================\u001b[1m Ai Message \u001b[0m==================================\n",
      "Tool Calls:\n",
      "  UpdateMemory (call_rOuw3bLYjFFKuSVWsIHF27k5)\n",
      " Call ID: call_rOuw3bLYjFFKuSVWsIHF27k5\n",
      "  Args:\n",
      "    update_type: user\n",
      "=================================\u001b[1m Tool Message \u001b[0m=================================\n",
      "\n",
      "updated profile\n",
      "==================================\u001b[1m Ai Message \u001b[0m==================================\n",
      "\n",
      "Got it! How can I assist you today, Lance?\n"
     ]
    }
   ],
   "source": [
    "# We supply a thread ID for short-term (within-thread) memory\n",
    "# We supply a user ID for long-term (across-thread) memory \n",
    "config = {\"configurable\": {\"thread_id\": \"1\", \"user_id\": \"Lance\"}}\n",
    "\n",
    "# User input to create a profile memory\n",
    "input_messages = [HumanMessage(content=\"My name is Lance. I live in SF with my wife. I have a 1 year old daughter.\")]\n",
    "\n",
    "# Run the graph\n",
    "for chunk in graph.stream({\"messages\": input_messages}, config, stream_mode=\"values\"):\n",
    "    chunk[\"messages\"][-1].pretty_print()"
   ]
  },
  {
   "cell_type": "code",
   "execution_count": 24,
   "metadata": {},
   "outputs": [
    {
     "name": "stdout",
     "output_type": "stream",
     "text": [
      "================================\u001b[1m Human Message \u001b[0m=================================\n",
      "\n",
      "My wife asked me to book swim lessons for the baby.\n",
      "==================================\u001b[1m Ai Message \u001b[0m==================================\n",
      "Tool Calls:\n",
      "  UpdateMemory (call_VjLbRpbLqniJ8we2CNKQ0m3P)\n",
      " Call ID: call_VjLbRpbLqniJ8we2CNKQ0m3P\n",
      "  Args:\n",
      "    update_type: todo\n",
      "=================================\u001b[1m Tool Message \u001b[0m=================================\n",
      "\n",
      "New ToDo created:\n",
      "Content: {'task': 'Book swim lessons for 1-year-old daughter.', 'time_to_complete': 30, 'solutions': ['Check local swim schools in SF', 'Look for baby swim classes online', 'Ask friends for recommendations'], 'status': 'not started'}\n",
      "==================================\u001b[1m Ai Message \u001b[0m==================================\n",
      "\n",
      "I've added \"Book swim lessons for your 1-year-old daughter\" to your ToDo list. If you need any help with that, just let me know!\n"
     ]
    }
   ],
   "source": [
    "# User input for a ToDo\n",
    "input_messages = [HumanMessage(content=\"My wife asked me to book swim lessons for the baby.\")]\n",
    "\n",
    "# Run the graph\n",
    "for chunk in graph.stream({\"messages\": input_messages}, config, stream_mode=\"values\"):\n",
    "    chunk[\"messages\"][-1].pretty_print()"
   ]
  },
  {
   "cell_type": "code",
   "execution_count": 25,
   "metadata": {},
   "outputs": [
    {
     "name": "stdout",
     "output_type": "stream",
     "text": [
      "================================\u001b[1m Human Message \u001b[0m=================================\n",
      "\n",
      "When creating or updating ToDo items, include specific local businesses / vendors.\n",
      "==================================\u001b[1m Ai Message \u001b[0m==================================\n",
      "Tool Calls:\n",
      "  UpdateMemory (call_22w3V3Krhjf8WxDeH9YrQILa)\n",
      " Call ID: call_22w3V3Krhjf8WxDeH9YrQILa\n",
      "  Args:\n",
      "    update_type: instructions\n",
      "=================================\u001b[1m Tool Message \u001b[0m=================================\n",
      "\n",
      "updated instructions\n",
      "==================================\u001b[1m Ai Message \u001b[0m==================================\n",
      "\n",
      "Got it! I'll make sure to include specific local businesses or vendors in San Francisco when creating or updating your ToDo items. Let me know if there's anything else you need!\n"
     ]
    }
   ],
   "source": [
    "# User input to update instructions for creating ToDos\n",
    "input_messages = [HumanMessage(content=\"When creating or updating ToDo items, include specific local businesses / vendors.\")]\n",
    "\n",
    "# Run the graph\n",
    "for chunk in graph.stream({\"messages\": input_messages}, config, stream_mode=\"values\"):\n",
    "    chunk[\"messages\"][-1].pretty_print()"
   ]
  },
  {
   "cell_type": "code",
   "execution_count": 26,
   "metadata": {},
   "outputs": [
    {
     "name": "stdout",
     "output_type": "stream",
     "text": [
      "{'memory': '<current_instructions>\\nWhen creating or updating ToDo list items for Lance, include specific local businesses or vendors in San Francisco. For example, when adding a task like booking swim lessons, suggest local swim schools or classes in the area.\\n</current_instructions>'}\n"
     ]
    }
   ],
   "source": [
    "# Check for updated instructions\n",
    "user_id = \"Lance\"\n",
    "\n",
    "# Search \n",
    "for memory in across_thread_memory.search((\"instructions\", user_id)):\n",
    "    print(memory.value)"
   ]
  },
  {
   "cell_type": "code",
   "execution_count": 27,
   "metadata": {},
   "outputs": [
    {
     "name": "stdout",
     "output_type": "stream",
     "text": [
      "================================\u001b[1m Human Message \u001b[0m=================================\n",
      "\n",
      "I need to fix the jammed electric Yale lock on the door.\n",
      "==================================\u001b[1m Ai Message \u001b[0m==================================\n",
      "Tool Calls:\n",
      "  UpdateMemory (call_7ooNemi3d6qWMfjf2g2h97EF)\n",
      " Call ID: call_7ooNemi3d6qWMfjf2g2h97EF\n",
      "  Args:\n",
      "    update_type: todo\n",
      "=================================\u001b[1m Tool Message \u001b[0m=================================\n",
      "\n",
      "New ToDo created:\n",
      "Content: {'task': 'Fix the jammed electric Yale lock on the door.', 'time_to_complete': 60, 'solutions': ['Contact a local locksmith in SF', \"Check Yale's customer support for troubleshooting\", 'Look for repair guides online'], 'status': 'not started'}\n",
      "\n",
      "Document ed0af900-52fa-4f15-907c-1aed1e17b0ce updated:\n",
      "Plan: Add specific local businesses or vendors to the solutions for booking swim lessons.\n",
      "Added content: ['Check local swim schools in SF', 'Look for baby swim classes online', 'Ask friends for recommendations', 'Contact La Petite Baleen Swim School', 'Check with SF Recreation and Parks for classes']\n",
      "==================================\u001b[1m Ai Message \u001b[0m==================================\n",
      "\n",
      "I've added \"Fix the jammed electric Yale lock on the door\" to your ToDo list. If you need any specific recommendations or help, feel free to ask!\n"
     ]
    }
   ],
   "source": [
    "# User input for a ToDo\n",
    "input_messages = [HumanMessage(content=\"I need to fix the jammed electric Yale lock on the door.\")]\n",
    "\n",
    "# Run the graph\n",
    "for chunk in graph.stream({\"messages\": input_messages}, config, stream_mode=\"values\"):\n",
    "    chunk[\"messages\"][-1].pretty_print()"
   ]
  },
  {
   "cell_type": "code",
   "execution_count": 28,
   "metadata": {},
   "outputs": [
    {
     "name": "stdout",
     "output_type": "stream",
     "text": [
      "{'task': 'Book swim lessons for 1-year-old daughter.', 'time_to_complete': 30, 'deadline': None, 'solutions': ['Check local swim schools in SF', 'Look for baby swim classes online', 'Ask friends for recommendations', 'Contact La Petite Baleen Swim School', 'Check with SF Recreation and Parks for classes'], 'status': 'not started'}\n",
      "{'task': 'Fix the jammed electric Yale lock on the door.', 'time_to_complete': 60, 'deadline': None, 'solutions': ['Contact a local locksmith in SF', \"Check Yale's customer support for troubleshooting\", 'Look for repair guides online'], 'status': 'not started'}\n"
     ]
    }
   ],
   "source": [
    "# Namespace for the memory to save\n",
    "user_id = \"Lance\"\n",
    "\n",
    "# Search \n",
    "for memory in across_thread_memory.search((\"todo\", user_id)):\n",
    "    print(memory.value)"
   ]
  },
  {
   "cell_type": "code",
   "execution_count": 29,
   "metadata": {},
   "outputs": [
    {
     "name": "stdout",
     "output_type": "stream",
     "text": [
      "================================\u001b[1m Human Message \u001b[0m=================================\n",
      "\n",
      "For the swim lessons, I need to get that done by end of November.\n",
      "==================================\u001b[1m Ai Message \u001b[0m==================================\n",
      "Tool Calls:\n",
      "  UpdateMemory (call_6AbsrTps4EPyD0gKBzkMIC90)\n",
      " Call ID: call_6AbsrTps4EPyD0gKBzkMIC90\n",
      "  Args:\n",
      "    update_type: todo\n",
      "=================================\u001b[1m Tool Message \u001b[0m=================================\n",
      "\n",
      "Document ed0af900-52fa-4f15-907c-1aed1e17b0ce updated:\n",
      "Plan: Add a deadline for the swim lessons task to ensure it is completed by the end of November.\n",
      "Added content: 2024-11-30T23:59:59\n",
      "==================================\u001b[1m Ai Message \u001b[0m==================================\n",
      "\n",
      "I've updated the swim lessons task with a deadline to be completed by the end of November. If there's anything else you need, just let me know!\n"
     ]
    }
   ],
   "source": [
    "# User input to update an existing ToDo\n",
    "input_messages = [HumanMessage(content=\"For the swim lessons, I need to get that done by end of November.\")]\n",
    "\n",
    "# Run the graph\n",
    "for chunk in graph.stream({\"messages\": input_messages}, config, stream_mode=\"values\"):\n",
    "    chunk[\"messages\"][-1].pretty_print()"
   ]
  },
  {
   "cell_type": "markdown",
   "metadata": {},
   "source": "我们可以看到 Trustcall 对现有记忆执行了 patching:\n\nhttps://smith.langchain.com/public/4ad3a8af-3b1e-493d-b163-3111aa3d575a/r"
  },
  {
   "cell_type": "code",
   "execution_count": 30,
   "metadata": {},
   "outputs": [
    {
     "name": "stdout",
     "output_type": "stream",
     "text": [
      "================================\u001b[1m Human Message \u001b[0m=================================\n",
      "\n",
      "Need to call back City Toyota to schedule car service.\n",
      "==================================\u001b[1m Ai Message \u001b[0m==================================\n",
      "Tool Calls:\n",
      "  UpdateMemory (call_tDuYZL7njpwOkg2YMEcf6DDJ)\n",
      " Call ID: call_tDuYZL7njpwOkg2YMEcf6DDJ\n",
      "  Args:\n",
      "    update_type: todo\n",
      "=================================\u001b[1m Tool Message \u001b[0m=================================\n",
      "\n",
      "New ToDo created:\n",
      "Content: {'task': 'Call back City Toyota to schedule car service.', 'time_to_complete': 10, 'solutions': [\"Find City Toyota's contact number\", 'Check car service availability', 'Prepare car details for service scheduling'], 'status': 'not started'}\n",
      "\n",
      "Document a77482f0-d654-4b41-ab74-d6f2b343a969 updated:\n",
      "Plan: Add specific local businesses or vendors to the solutions for fixing the jammed electric Yale lock.\n",
      "Added content: Contact City Locksmith SF\n",
      "==================================\u001b[1m Ai Message \u001b[0m==================================\n",
      "\n",
      "I've added \"Call back City Toyota to schedule car service\" to your ToDo list. If you need any assistance with that, just let me know!\n"
     ]
    }
   ],
   "source": [
    "# User input for a ToDo\n",
    "input_messages = [HumanMessage(content=\"Need to call back City Toyota to schedule car service.\")]\n",
    "\n",
    "# Run the graph\n",
    "for chunk in graph.stream({\"messages\": input_messages}, config, stream_mode=\"values\"):\n",
    "    chunk[\"messages\"][-1].pretty_print()"
   ]
  },
  {
   "cell_type": "code",
   "execution_count": 31,
   "metadata": {},
   "outputs": [
    {
     "name": "stdout",
     "output_type": "stream",
     "text": [
      "{'task': 'Book swim lessons for 1-year-old daughter.', 'time_to_complete': 30, 'deadline': '2024-11-30T23:59:59', 'solutions': ['Check local swim schools in SF', 'Look for baby swim classes online', 'Ask friends for recommendations', 'Contact La Petite Baleen Swim School', 'Check with SF Recreation and Parks for classes'], 'status': 'not started'}\n",
      "{'task': 'Fix the jammed electric Yale lock on the door.', 'time_to_complete': 60, 'deadline': None, 'solutions': ['Contact a local locksmith in SF', \"Check Yale's customer support for troubleshooting\", 'Look for repair guides online', 'Contact City Locksmith SF', 'Visit SF Lock and Key for assistance'], 'status': 'not started'}\n",
      "{'task': 'Call back City Toyota to schedule car service.', 'time_to_complete': 10, 'deadline': None, 'solutions': [\"Find City Toyota's contact number\", 'Check car service availability', 'Prepare car details for service scheduling'], 'status': 'not started'}\n"
     ]
    }
   ],
   "source": [
    "# Namespace for the memory to save\n",
    "user_id = \"Lance\"\n",
    "\n",
    "# Search \n",
    "for memory in across_thread_memory.search((\"todo\", user_id)):\n",
    "    print(memory.value)"
   ]
  },
  {
   "cell_type": "markdown",
   "metadata": {},
   "source": "现在我们可以创建一个新线程。\n\n这将创建一个新会话。\n\n保存到长期记忆的 Profile、ToDos 和 Instructions 可以被访问。"
  },
  {
   "cell_type": "code",
   "execution_count": 32,
   "metadata": {},
   "outputs": [
    {
     "name": "stdout",
     "output_type": "stream",
     "text": [
      "================================\u001b[1m Human Message \u001b[0m=================================\n",
      "\n",
      "I have 30 minutes, what tasks can I get done?\n",
      "==================================\u001b[1m Ai Message \u001b[0m==================================\n",
      "\n",
      "You can work on the following tasks that fit within your 30-minute timeframe:\n",
      "\n",
      "1. **Book swim lessons for your 1-year-old daughter.** \n",
      "   - Estimated time to complete: 30 minutes\n",
      "   - Solutions include checking local swim schools in SF, looking for baby swim classes online, asking friends for recommendations, contacting La Petite Baleen Swim School, or checking with SF Recreation and Parks for classes.\n",
      "\n",
      "2. **Call back City Toyota to schedule car service.**\n",
      "   - Estimated time to complete: 10 minutes\n",
      "   - Solutions include finding City Toyota's contact number, checking car service availability, and preparing car details for service scheduling.\n",
      "\n",
      "You can choose either of these tasks to complete within your available time.\n"
     ]
    }
   ],
   "source": [
    "# We supply a thread ID for short-term (within-thread) memory\n",
    "# We supply a user ID for long-term (across-thread) memory \n",
    "config = {\"configurable\": {\"thread_id\": \"2\", \"user_id\": \"Lance\"}}\n",
    "\n",
    "# Chat with the chatbot\n",
    "input_messages = [HumanMessage(content=\"I have 30 minutes, what tasks can I get done?\")]\n",
    "\n",
    "# Run the graph\n",
    "for chunk in graph.stream({\"messages\": input_messages}, config, stream_mode=\"values\"):\n",
    "    chunk[\"messages\"][-1].pretty_print()"
   ]
  },
  {
   "cell_type": "code",
   "execution_count": 33,
   "metadata": {},
   "outputs": [
    {
     "name": "stdout",
     "output_type": "stream",
     "text": [
      "================================\u001b[1m Human Message \u001b[0m=================================\n",
      "\n",
      "Yes, give me some options to call for swim lessons.\n",
      "==================================\u001b[1m Ai Message \u001b[0m==================================\n",
      "\n",
      "Here are some options you can consider for booking swim lessons for your 1-year-old daughter in San Francisco:\n",
      "\n",
      "1. **La Petite Baleen Swim School**: Known for their baby swim classes, you can contact them to inquire about their schedule and availability.\n",
      "\n",
      "2. **SF Recreation and Parks**: They often offer swim classes for young children. Check their website or contact them for more information.\n",
      "\n",
      "3. **Local Swim Schools**: Search for other local swim schools in SF that offer baby swim classes. You might find some good options nearby.\n",
      "\n",
      "4. **Ask Friends for Recommendations**: Reach out to friends or family in the area who might have experience with swim lessons for young children.\n",
      "\n",
      "These options should help you get started on booking swim lessons.\n"
     ]
    }
   ],
   "source": [
    "# Chat with the chatbot\n",
    "input_messages = [HumanMessage(content=\"Yes, give me some options to call for swim lessons.\")]\n",
    "\n",
    "# Run the graph\n",
    "for chunk in graph.stream({\"messages\": input_messages}, config, stream_mode=\"values\"):\n",
    "    chunk[\"messages\"][-1].pretty_print()"
   ]
  },
  {
   "cell_type": "markdown",
   "metadata": {},
   "source": "Trace: \n\nhttps://smith.langchain.com/public/84768705-be91-43e4-8a6f-f9d3cee93782/r\n\n## Studio\n\n![Screenshot 2024-11-04 at 1.00.19 PM.png](https://cdn.prod.website-files.com/65b8cd72835ceeacd4449a53/6732cfb05d9709862eba4e6c_Screenshot%202024-11-11%20at%207.46.40%E2%80%AFPM.png)"
  }
 ],
 "metadata": {
  "kernelspec": {
   "display_name": "Python 3 (ipykernel)",
   "language": "python",
   "name": "python3"
  },
  "language_info": {
   "codemirror_mode": {
    "name": "ipython",
    "version": 3
   },
   "file_extension": ".py",
   "mimetype": "text/x-python",
   "name": "python",
   "nbconvert_exporter": "python",
   "pygments_lexer": "ipython3",
   "version": "3.11.8"
  }
 },
 "nbformat": 4,
 "nbformat_minor": 4
}
