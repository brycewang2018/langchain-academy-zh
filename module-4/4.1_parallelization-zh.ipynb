{
 "cells": [
  {
   "cell_type": "markdown",
   "id": "0d0e279f",
   "metadata": {},
   "source": [
    "[![Open in Colab](https://colab.research.google.com/assets/colab-badge.svg)](https://colab.research.google.com/github/langchain-ai/langchain-academy/blob/main/module-4/parallelization.ipynb) [![Open in LangChain Academy](https://cdn.prod.website-files.com/65b8cd72835ceeacd4449a53/66e9eba12c7b7688aa3dbb5e_LCA-badge-green.svg)](https://academy.langchain.com/courses/take/intro-to-langgraph/lessons/58239934-lesson-1-parallelization)"
   ]
  },
  {
   "cell_type": "markdown",
   "id": "89f7d6d4",
   "metadata": {},
   "source": [
    "英文原版：https://github.com/langchain-ai/langchain-academy/tree/main\n",
    "\n",
    "译者：Bryce Wang, brycewang2018@gmail.com"
   ]
  },
  {
   "cell_type": "markdown",
   "id": "f4169bfb-769a-4db3-833e-c827f19024b2",
   "metadata": {},
   "source": [
    "# Parallel node execution 并行节点执行\n",
    "\n",
    "## Review 回顾\n",
    "\n",
    "在 module 3，我们深入了解了 `human-in-the loop`，展示了3种常见的使用案例：\n",
    "\n",
    "（1） `Approval` - 我们可以介入我们的 agent，向用户展示 state，并允许用户来接受某个 action。\n",
    "（2） `Debugging` - 我们可以回溯 graph 来复现或避免问题。\n",
    "（3）`Editing` - 我们可以修改 state\n",
    "\n",
    "\n",
    "## Goals 目标\n",
    "\n",
    "本模块将在第 2 模块中讨论过的 `human-in-the-loop` 和 `memory` 概念的基础上进行扩展。\n",
    "\n",
    "我们将深入探讨 `multi-agent` 工作流程，并逐步构建一个能够整合本课程所有模块的多智能体研究助手。\n",
    "\n",
    "为了构建这个多智能体研究助手，我们将首先讨论一些与 LangGraph 可控性相关的主题。\n",
    "\n",
    "\n",
    "我们从这里开始进入 [parallelization](https://langchain-ai.github.io/langgraph/how-tos/branching/#how-to-create-branches-for-parallel-node-execution).\n",
    "\n",
    "## Fan out and fan in\n",
    "\n",
    "让我们构建一个简单的线性图，在每一步都覆盖（over-write）state。"
   ]
  },
  {
   "cell_type": "code",
   "execution_count": null,
   "id": "618eab5c-4ef7-4273-8e0b-a9c847897ed7",
   "metadata": {},
   "outputs": [],
   "source": [
    "%%capture --no-stderr\n",
    "## 让安装库时的大量下载信息不显示，但一旦出错，报错信息仍会显示出来\n",
    "## 环境准备\n",
    "\n",
    "## # 安装或升级所需的库\n",
    "%pip install -U  langgraph tavily-python wikipedia langchain_openai langchain_community langgraph_sdk\n",
    "\n",
    "## 方便用户输入 API Key\n",
    "import os, getpass\n",
    "\n",
    "def _set_env(var: str):\n",
    "    if not os.environ.get(var):\n",
    "        os.environ[var] = getpass.getpass(f\"{var}: \")\n",
    "\n",
    "_set_env(\"OPENAI_API_KEY\")"
   ]
  },
  {
   "cell_type": "code",
   "execution_count": 3,
   "id": "1dd77093-1794-4bd7-8c57-58f59a74c20b",
   "metadata": {},
   "outputs": [
    {
     "data": {
      "image/png": "[encoded data removed]",
      "text/plain": [
       "<IPython.core.display.Image object>"
      ]
     },
     "metadata": {},
     "output_type": "display_data"
    }
   ],
   "source": [
    "# 导入用于在 Jupyter Notebook 中显示图片的工具\n",
    "from IPython.display import Image, display\n",
    "\n",
    "# 类型提示相关模块\n",
    "from typing import Any\n",
    "from typing_extensions import TypedDict\n",
    "\n",
    "# 从 langgraph 引入核心类和常量\n",
    "from langgraph.graph import StateGraph, START, END\n",
    "\n",
    "# 定义状态（state）的数据结构\n",
    "class State(TypedDict):\n",
    "    # state 是一个字符串，使用 reducer的方式来存储\n",
    "    # 这里是 append-only，也就是只能追加\n",
    "    state: str\n",
    "\n",
    "# 定义一个“节点行为”类，每个节点都会返回自己的值\n",
    "class ReturnNodeValue:\n",
    "    def __init__(self, node_secret: str):\n",
    "        # 保存节点自己的秘密值（node_secret）\n",
    "        self._value = node_secret\n",
    "\n",
    "    # 当节点被调用时会执行这个方法\n",
    "    def __call__(self, state: State) -> Any:\n",
    "        # 打印当前操作（帮助调试）\n",
    "        print(f\"Adding {self._value} to {state['state']}\")\n",
    "        # 返回一个新的状态字典，把当前节点的值追加进去\n",
    "        return {\"state\": [self._value]}\n",
    "\n",
    "# ---------- 构建图 ----------\n",
    "# 创建一个状态图对象，指定使用 State 类型\n",
    "builder = StateGraph(State)\n",
    "\n",
    "# 添加节点，每个节点对应一个 ReturnNodeValue 实例\n",
    "builder.add_node(\"a\", ReturnNodeValue(\"I'm A\"))\n",
    "builder.add_node(\"b\", ReturnNodeValue(\"I'm B\"))\n",
    "builder.add_node(\"c\", ReturnNodeValue(\"I'm C\"))\n",
    "builder.add_node(\"d\", ReturnNodeValue(\"I'm D\"))\n",
    "\n",
    "# ---------- 定义流程 ----------\n",
    "# 设置节点之间的执行顺序（类似有向边）\n",
    "builder.add_edge(START, \"a\")  # 从开始到 a\n",
    "builder.add_edge(\"a\", \"b\")    # a -> b\n",
    "builder.add_edge(\"b\", \"c\")    # b -> c\n",
    "builder.add_edge(\"c\", \"d\")    # c -> d\n",
    "builder.add_edge(\"d\", END)    # 最后 d -> 结束\n",
    "\n",
    "# 编译整个图，得到可执行的工作流\n",
    "graph = builder.compile()\n",
    "\n",
    "# ---------- 可视化 ----------\n",
    "# 使用 Mermaid 语法画出图，并以图片形式显示\n",
    "display(Image(graph.get_graph().draw_mermaid_png()))\n"
   ]
  },
  {
   "cell_type": "markdown",
   "id": "bdd027d3-ef9f-4d43-b190-e9f07d521e18",
   "metadata": {},
   "source": [
    "We over-write state, as expected."
   ]
  },
  {
   "cell_type": "code",
   "execution_count": null,
   "id": "bf260088-90d5-45b2-93ab-42f241560840",
   "metadata": {},
   "outputs": [
    {
     "name": "stdout",
     "output_type": "stream",
     "text": [
      "Adding I'm A to []\n",
      "Adding I'm B to [\"I'm A\"]\n",
      "Adding I'm C to [\"I'm B\"]\n",
      "Adding I'm D to [\"I'm C\"]\n"
     ]
    },
    {
     "data": {
      "text/plain": [
       "{'state': [\"I'm D\"]}"
      ]
     },
     "execution_count": 4,
     "metadata": {},
     "output_type": "execute_result"
    }
   ],
   "source": [
    "## graph.invoke(...)：调用已经编译好的 LangGraph 工作流。\n",
    "## {\"state\": []}：给它传入初始状态，这里是一个空列表。\n",
    "\n",
    "graph.invoke({\"state\": []})\n",
    "\n",
    "## 因为 ReturnNodeValue 每次都覆盖掉 state，所以最后只保留 \"I'm D\""
   ]
  },
  {
   "cell_type": "markdown",
   "id": "a9dec27d-dc43-4088-beb2-53ad090d2971",
   "metadata": {},
   "source": [
    "现在，让我们并行运行 `b` 和 `c`。\n",
    "\n",
    "然后再运行 `d`。\n",
    "\n",
    "我们可以很容易地通过从 `a` fan-out 到 `b` 和 `c`，然后再 fan-in 到 `d` 来实现。\n",
    "\n",
    "状态更新会在每一步结束时被应用。\n",
    "\n",
    "让我们运行一下。\n"
   ]
  },
  {
   "cell_type": "code",
   "execution_count": 4,
   "id": "8fdeaaab-a8c3-470f-89ef-9cf0a2760667",
   "metadata": {},
   "outputs": [
    {
     "data": {
      "image/png": "[encoded data removed]",
      "text/plain": [
       "<IPython.core.display.Image object>"
      ]
     },
     "metadata": {},
     "output_type": "display_data"
    }
   ],
   "source": [
    "## 现在，让我们并行运行 `b` 和 `c`。\n",
    "builder = StateGraph(State)\n",
    "\n",
    "## 初始化各个节点\n",
    "## 每个节点都会返回一个字符串（自己的标识）\n",
    "builder.add_node(\"a\", ReturnNodeValue(\"I'm A\"))\n",
    "builder.add_node(\"b\", ReturnNodeValue(\"I'm B\"))\n",
    "builder.add_node(\"c\", ReturnNodeValue(\"I'm C\"))\n",
    "builder.add_node(\"d\", ReturnNodeValue(\"I'm D\"))\n",
    "\n",
    "## 定义流程\n",
    "## 从开始节点进入 a\n",
    "builder.add_edge(START, \"a\")\n",
    "\n",
    "## 从 a 分支 (fan-out) 出两条路径，分别到 b 和 c\n",
    "builder.add_edge(\"a\", \"b\")\n",
    "builder.add_edge(\"a\", \"c\")\n",
    "\n",
    "## b 和 c 都会在完成后汇合 (fan-in) 到 d\n",
    "builder.add_edge(\"b\", \"d\")\n",
    "builder.add_edge(\"c\", \"d\")\n",
    "builder.add_edge(\"d\", END)\n",
    "\n",
    "## 编译得到可运行的图\n",
    "graph = builder.compile()\n",
    "\n",
    "## 可视化图结构，显示节点和连线关系\n",
    "display(Image(graph.get_graph().draw_mermaid_png()))"
   ]
  },
  {
   "cell_type": "markdown",
   "id": "35238fde-0230-4ae8-9200-158a8835c4f1",
   "metadata": {},
   "source": [
    "**这里会报错**! \n",
    "\n",
    "这是因为 `b` 和 `c` 在同一个步骤，同时写入相同的 key / channel。"
   ]
  },
  {
   "cell_type": "code",
   "execution_count": 5,
   "id": "9048b041-6849-4f09-9811-6b7a80f67859",
   "metadata": {},
   "outputs": [
    {
     "name": "stdout",
     "output_type": "stream",
     "text": [
      "Adding I'm A to []\n",
      "Adding I'm B to [\"I'm A\"]\n",
      "Adding I'm C to [\"I'm A\"]\n",
      "An error occurred: At key 'state': Can receive only one value per step. Use an Annotated key to handle multiple values.\n",
      "For troubleshooting, visit: https://python.langchain.com/docs/troubleshooting/errors/INVALID_CONCURRENT_GRAPH_UPDATE\n"
     ]
    }
   ],
   "source": [
    "# 从 langgraph 中导入错误类型，用于捕获非法的状态更新\n",
    "from langgraph.errors import InvalidUpdateError\n",
    "\n",
    "try:\n",
    "    # 运行图，并传入初始状态（空列表）\n",
    "    graph.invoke({\"state\": []})\n",
    "except InvalidUpdateError as e:\n",
    "    # 如果运行过程中发生非法状态更新，就会抛出这个错误\n",
    "    print(f\"An error occurred: {e}\")"
   ]
  },
  {
   "cell_type": "markdown",
   "id": "64cc329d-59fa-4c26-adcf-9122a824955d",
   "metadata": {},
   "source": [
    "在使用 fan out 时，如果多个步骤写入相同的 channel / key，我们需要确保使用了 reducer。\n",
    "\n",
    "正如我们在第 2 模块中提到的，`operator.add` 是 Python 内置 operator 模块中的一个函数。\n",
    "\n",
    "当 `operator.add` 应用于列表时，它会执行列表拼接操作。"
   ]
  },
  {
   "cell_type": "code",
   "execution_count": 6,
   "id": "8f1292ac-510a-4801-b2a3-e2c6d2d9582a",
   "metadata": {},
   "outputs": [
    {
     "data": {
      "image/png": "[encoded data removed]",
      "text/plain": [
       "<IPython.core.display.Image object>"
      ]
     },
     "metadata": {},
     "output_type": "display_data"
    }
   ],
   "source": [
    "import operator\n",
    "from typing import Annotated\n",
    "from typing_extensions import TypedDict\n",
    "from langgraph.graph import StateGraph, START, END\n",
    "from IPython.display import Image, display\n",
    "\n",
    "# ---------- 定义状态 ----------\n",
    "class State(TypedDict):\n",
    "    # 这里定义了一个状态字段 state\n",
    "    # Annotated[list, operator.add] 的意思是：\n",
    "    #   - state 是一个 list 类型\n",
    "    #   - 多个节点同时更新 state 时，使用 operator.add 来合并\n",
    "    #     （operator.add(list1, list2) 等价于 list1 + list2，也就是拼接）\n",
    "    # 这样可以避免并行更新时发生冲突（否则会抛出 InvalidUpdateError）\n",
    "    state: Annotated[list, operator.add]\n",
    "\n",
    "\n",
    "# ---------- 构建图 ----------\n",
    "# 创建一个状态图对象，指定使用上面定义的 State 作为状态结构\n",
    "builder = StateGraph(State)\n",
    "\n",
    "\n",
    "# ---------- 添加节点 ----------\n",
    "# 每个节点都会返回一个值，并写入 state\n",
    "# ReturnNodeValue(\"I'm X\") 会在被调用时返回 {\"state\": [\"I'm X\"]}\n",
    "builder.add_node(\"a\", ReturnNodeValue(\"I'm A\"))\n",
    "builder.add_node(\"b\", ReturnNodeValue(\"I'm B\"))\n",
    "builder.add_node(\"c\", ReturnNodeValue(\"I'm C\"))\n",
    "builder.add_node(\"d\", ReturnNodeValue(\"I'm D\"))\n",
    "\n",
    "\n",
    "# ---------- 定义流程 ----------\n",
    "# 设置节点之间的连接关系（类似画有向图）\n",
    "\n",
    "builder.add_edge(START, \"a\")   # 流程从 START 开始，进入 a\n",
    "\n",
    "# 从 a 分支 (fan-out) 出两条路径：一条到 b，一条到 c\n",
    "builder.add_edge(\"a\", \"b\")\n",
    "builder.add_edge(\"a\", \"c\")\n",
    "\n",
    "# b 和 c 都会在完成后汇合 (fan-in) 到 d\n",
    "builder.add_edge(\"b\", \"d\")\n",
    "builder.add_edge(\"c\", \"d\")\n",
    "\n",
    "# 最后 d → END，流程结束\n",
    "builder.add_edge(\"d\", END)\n",
    "\n",
    "\n",
    "# ---------- 编译并生成图 ----------\n",
    "# 编译得到一个可执行的工作流对象\n",
    "graph = builder.compile()\n",
    "\n",
    "# 使用 Mermaid 语法画出图，并以图片显示流程\n",
    "display(Image(graph.get_graph().draw_mermaid_png()))\n"
   ]
  },
  {
   "cell_type": "code",
   "execution_count": 7,
   "id": "ffbad231-fc1d-49b1-a9fc-ed9153fa3977",
   "metadata": {},
   "outputs": [
    {
     "name": "stdout",
     "output_type": "stream",
     "text": [
      "Adding I'm A to []\n",
      "Adding I'm B to [\"I'm A\"]\n",
      "Adding I'm C to [\"I'm A\"]\n",
      "Adding I'm D to [\"I'm A\", \"I'm B\", \"I'm C\"]\n"
     ]
    },
    {
     "data": {
      "text/plain": [
       "{'state': [\"I'm A\", \"I'm B\", \"I'm C\", \"I'm D\"]}"
      ]
     },
     "execution_count": 7,
     "metadata": {},
     "output_type": "execute_result"
    }
   ],
   "source": [
    "## 运行图，传入初始状态（空列表）\n",
    "graph.invoke({\"state\": []})\n",
    "\n",
    "## 关键的是 \"I'm B\", \"I'm C\" 通过 operator.add 被合并到 state 里了"
   ]
  },
  {
   "cell_type": "markdown",
   "id": "bdf5baa2-cecd-44b6-b0c4-d258340783f8",
   "metadata": {},
   "source": [
    "这里我们可以看到，节点 `b` and `c` 的更新被并行地合并到 state 里面。"
   ]
  },
  {
   "cell_type": "markdown",
   "id": "ed6fc7c7-198d-41be-867f-e77c93ba3217",
   "metadata": {},
   "source": [
    "## 等待节点完成\n",
    "\n",
    "现在，让我们考虑这样一种情况：一条并行路径的步骤比另一条更多。"
   ]
  },
  {
   "cell_type": "code",
   "execution_count": 8,
   "id": "f50b5d4f-dd39-4c22-b623-e0abc23f9144",
   "metadata": {},
   "outputs": [
    {
     "data": {
      "image/png": "[encoded data removed]",
      "text/plain": [
       "<IPython.core.display.Image object>"
      ]
     },
     "metadata": {},
     "output_type": "display_data"
    }
   ],
   "source": [
    "# 定义一个有状态的图（StateGraph），传入状态类型 State\n",
    "builder = StateGraph(State)\n",
    "\n",
    "# 添加节点（node）：每个节点代表一个步骤或状态\n",
    "# ReturnNodeValue(\"...\") 表示这个节点会返回对应的字符串\n",
    "builder.add_node(\"a\", ReturnNodeValue(\"I'm A\"))\n",
    "builder.add_node(\"b\", ReturnNodeValue(\"I'm B\"))\n",
    "builder.add_node(\"b2\", ReturnNodeValue(\"I'm B2\"))\n",
    "builder.add_node(\"c\", ReturnNodeValue(\"I'm C\"))\n",
    "builder.add_node(\"d\", ReturnNodeValue(\"I'm D\"))\n",
    "\n",
    "# 添加流程（edge）：定义节点之间的连接顺序\n",
    "\n",
    "# 开始节点 → a\n",
    "builder.add_edge(START, \"a\")\n",
    "\n",
    "# a → b\n",
    "builder.add_edge(\"a\", \"b\")\n",
    "\n",
    "# a → c\n",
    "builder.add_edge(\"a\", \"c\")\n",
    "\n",
    "# b → b2\n",
    "builder.add_edge(\"b\", \"b2\")\n",
    "\n",
    "# b2 和 c 两个路径都要到 d\n",
    "builder.add_edge([\"b2\", \"c\"], \"d\")\n",
    "\n",
    "# d → 结束节点\n",
    "builder.add_edge(\"d\", END)\n",
    "\n",
    "# 编译生成完整的图\n",
    "graph = builder.compile()\n",
    "\n",
    "# 可视化：绘制流程图（Mermaid 格式，显示为图片）\n",
    "display(Image(graph.get_graph().draw_mermaid_png()))"
   ]
  },
  {
   "cell_type": "markdown",
   "id": "11640e6f-ac62-4ad4-89d9-7f6f9b56bf7a",
   "metadata": {},
   "source": [
    "在这种情况下，`b`、`b2` 和 `c` 都属于同一个步骤。\n",
    "\n",
    "图会等待它们全部完成之后，才会进入步骤 `d`。\n"
   ]
  },
  {
   "cell_type": "code",
   "execution_count": 9,
   "id": "fafda930-e75b-410f-ba93-eb5fc0219303",
   "metadata": {},
   "outputs": [
    {
     "name": "stdout",
     "output_type": "stream",
     "text": [
      "Adding I'm A to []\n",
      "Adding I'm B to [\"I'm A\"]\n",
      "Adding I'm C to [\"I'm A\"]\n",
      "Adding I'm B2 to [\"I'm A\", \"I'm B\", \"I'm C\"]\n",
      "Adding I'm D to [\"I'm A\", \"I'm B\", \"I'm C\", \"I'm B2\"]\n"
     ]
    },
    {
     "data": {
      "text/plain": [
       "{'state': [\"I'm A\", \"I'm B\", \"I'm C\", \"I'm B2\", \"I'm D\"]}"
      ]
     },
     "execution_count": 9,
     "metadata": {},
     "output_type": "execute_result"
    }
   ],
   "source": [
    "graph.invoke({\"state\": []})"
   ]
  },
  {
   "cell_type": "markdown",
   "id": "6610a2e3-b053-47e8-bf4e-0968dfaa0a5d",
   "metadata": {},
   "source": [
    "## 设置状态更新的顺序\n",
    "\n",
    "然而，在每个步骤内部，我们并不能具体控制状态更新的顺序！\n",
    "\n",
    "简单来说，这是由 LangGraph 根据图的拓扑结构决定的一个确定性顺序，**而不是我们能控制的**。\n",
    "\n",
    "在上面的例子中，我们看到 `c` 会在 `b2` 之前被添加。\n",
    "\n",
    "不过，我们可以通过自定义 reducer 来调整，比如对状态更新进行排序 (sort state updates)。\n"
   ]
  },
  {
   "cell_type": "code",
   "execution_count": null,
   "id": "24788e73-0950-432e-ad32-7987ea076529",
   "metadata": {},
   "outputs": [
    {
     "data": {
      "image/png": "[encoded data removed]",
      "text/plain": [
       "<IPython.core.display.Image object>"
      ]
     },
     "metadata": {},
     "output_type": "display_data"
    }
   ],
   "source": [
    "# 定义一个 reducer（合并器），用于控制 state 的更新顺序\n",
    "def sorting_reducer(left, right):\n",
    "    \"\"\" 合并并排序列表中的值 \"\"\"\n",
    "    # 如果 left 不是列表，就把它变成列表\n",
    "    if not isinstance(left, list):\n",
    "        left = [left]\n",
    "\n",
    "    # 如果 right 不是列表，就把它变成列表\n",
    "    if not isinstance(right, list):\n",
    "        right = [right]\n",
    "    \n",
    "    # 合并两个列表并排序（reverse=False 表示升序）\n",
    "    return sorted(left + right, reverse=False)\n",
    "\n",
    "\n",
    "# 定义 State 类型\n",
    "class State(TypedDict):\n",
    "    # 这里使用 sorting_reducer 来保证 state 中的值是排序的\n",
    "    state: Annotated[list, sorting_reducer]\n",
    "\n",
    "\n",
    "# 创建一个有状态的图\n",
    "builder = StateGraph(State)\n",
    "\n",
    "# 添加节点（每个节点都会返回一个固定的字符串）\n",
    "builder.add_node(\"a\", ReturnNodeValue(\"I'm A\"))\n",
    "builder.add_node(\"b\", ReturnNodeValue(\"I'm B\"))\n",
    "builder.add_node(\"b2\", ReturnNodeValue(\"I'm B2\"))\n",
    "builder.add_node(\"c\", ReturnNodeValue(\"I'm C\"))\n",
    "builder.add_node(\"d\", ReturnNodeValue(\"I'm D\"))\n",
    "\n",
    "# 定义节点之间的流程\n",
    "builder.add_edge(START, \"a\")   # 开始 → a\n",
    "builder.add_edge(\"a\", \"b\")     # a → b\n",
    "builder.add_edge(\"a\", \"c\")     # a → c\n",
    "builder.add_edge(\"b\", \"b2\")    # b → b2\n",
    "builder.add_edge([\"b2\", \"c\"], \"d\")  # b2 和 c → d\n",
    "builder.add_edge(\"d\", END)     # d → 结束\n",
    "\n",
    "# 编译图\n",
    "graph = builder.compile()\n",
    "\n",
    "# 可视化流程图\n",
    "display(Image(graph.get_graph().draw_mermaid_png()))"
   ]
  },
  {
   "cell_type": "code",
   "execution_count": null,
   "id": "607dba2e-f9f0-4bc7-8ba6-684521a49bdc",
   "metadata": {},
   "outputs": [
    {
     "name": "stdout",
     "output_type": "stream",
     "text": [
      "Adding I'm A to []\n",
      "Adding I'm B to [\"I'm A\"]\n",
      "Adding I'm C to [\"I'm A\"]\n",
      "Adding I'm B2 to [\"I'm A\", \"I'm B\", \"I'm C\"]\n",
      "Adding I'm D to [\"I'm A\", \"I'm B\", \"I'm B2\", \"I'm C\"]\n"
     ]
    },
    {
     "data": {
      "text/plain": [
       "{'state': [\"I'm A\", \"I'm B\", \"I'm B2\", \"I'm C\", \"I'm D\"]}"
      ]
     },
     "execution_count": 12,
     "metadata": {},
     "output_type": "execute_result"
    }
   ],
   "source": [
    "## 运行图，传入初始状态（空列表）\n",
    "graph.invoke({\"state\": []})"
   ]
  },
  {
   "cell_type": "markdown",
   "id": "fb1714c0-e881-48e7-bcb8-a60016f0485e",
   "metadata": {},
   "source": [
    "现在，reducer 会对更新后的状态值进行排序！\n",
    "\n",
    "`sorting_reducer` 示例会对所有的值进行全局排序。我们还可以：\n",
    "\n",
    "1. 在并行步骤中，将输出写入状态中的一个单独字段\n",
    "2. 在并行步骤之后，使用一个 “sink” 节点来合并并排序这些输出\n",
    "3. 合并完成后，清理掉临时字段\n",
    "\n",
    "更多详情请参考 [文档](https://langchain-ai.github.io/langgraph/how-tos/branching/#stable-sorting)。"
   ]
  },
  {
   "cell_type": "markdown",
   "id": "34e0750b-e6af-40d9-835c-c664da5a2d3b",
   "metadata": {},
   "source": [
    "## 使用大语言模型（LLMs）\n",
    "\n",
    "现在，让我们添加一个真实的示例！\n",
    "\n",
    "我们希望从两个外部来源（维基百科和网页搜索）收集上下文，然后让一个大语言模型来回答问题。"
   ]
  },
  {
   "cell_type": "code",
   "execution_count": null,
   "id": "e1e9d03c-cb41-415c-862d-c9616d5a2d07",
   "metadata": {},
   "outputs": [],
   "source": [
    "from langchain_openai import ChatOpenAI\n",
    "llm = ChatOpenAI(model=\"gpt-4o\", temperature=0) \n",
    "\n",
    "\n",
    "class State(TypedDict):\n",
    "    question: str\n",
    "    answer: str\n",
    "    context: Annotated[list, operator.add]"
   ]
  },
  {
   "cell_type": "markdown",
   "id": "9e714ea8-095c-461a-98bc-ee782a84ef5c",
   "metadata": {},
   "source": [
    "你可以尝试不同的网页搜索工具。[Tavily](https://tavily.com/) 是一个不错的选择，但请确保已经设置好你的 `TAVILY_API_KEY`。"
   ]
  },
  {
   "cell_type": "code",
   "execution_count": 15,
   "id": "c8bb519a-d08a-4ec7-8f0b-2ce6a9bf7342",
   "metadata": {},
   "outputs": [],
   "source": [
    "import os, getpass\n",
    "def _set_env(var: str):\n",
    "    if not os.environ.get(var):\n",
    "        os.environ[var] = getpass.getpass(f\"{var}: \")\n",
    "_set_env(\"TAVILY_API_KEY\")"
   ]
  },
  {
   "cell_type": "code",
   "execution_count": 11,
   "id": "bfb4f56c-3334-4927-8ed8-62fd384ee43e",
   "metadata": {},
   "outputs": [
    {
     "data": {
      "image/png": "[encoded data removed]",
      "text/plain": [
       "<IPython.core.display.Image object>"
      ]
     },
     "metadata": {},
     "output_type": "display_data"
    }
   ],
   "source": [
    "## HumanMessage, 表示用户输入的消息，就像对话中的人类说的话。\n",
    "## SystemMessage, 表示系统提示或指令，用来告诉模型应该遵循什么规则或背景。\n",
    "from langchain_core.messages import HumanMessage, SystemMessage\n",
    "## 这里就是先用 SystemMessage 给模型一个上下文和指令，再用 HumanMessage 明确告诉模型：“请回答问题”\n",
    "\n",
    "\n",
    "from langchain_community.document_loaders import WikipediaLoader\n",
    "from langchain_community.tools import TavilySearchResults\n",
    "\n",
    "\n",
    "def search_web(state):\n",
    "    \"\"\" 从网页搜索中获取文档 \"\"\"\n",
    "\n",
    "    # 使用 Tavily 搜索工具，限制返回 3 条结果\n",
    "    tavily_search = TavilySearchResults(max_results=3)\n",
    "    # 根据 state 中的问题进行搜索\n",
    "    search_docs = tavily_search.invoke(state['question'])\n",
    "\n",
    "    # 格式化搜索结果：把每个结果包装成 <Document> 标签\n",
    "    formatted_search_docs = \"\\n\\n---\\n\\n\".join(\n",
    "        [\n",
    "            f'<Document href=\"{doc[\"url\"]}\">\\n{doc[\"content\"]}\\n</Document>'\n",
    "            for doc in search_docs\n",
    "        ]\n",
    "    )\n",
    "\n",
    "    # 将搜索结果放入 state 中的 context 字段返回\n",
    "    return {\"context\": [formatted_search_docs]} \n",
    "\n",
    "\n",
    "def search_wikipedia(state):\n",
    "    \"\"\" 从维基百科获取文档 \"\"\"\n",
    "\n",
    "    # 使用 WikipediaLoader 搜索，最多加载 2 条结果\n",
    "    search_docs = WikipediaLoader(query=state['question'], \n",
    "                                  load_max_docs=2).load()\n",
    "\n",
    "    # 格式化搜索结果：包含来源和页面信息\n",
    "    formatted_search_docs = \"\\n\\n---\\n\\n\".join(\n",
    "        [\n",
    "            f'<Document source=\"{doc.metadata[\"source\"]}\" page=\"{doc.metadata.get(\"page\", \"\")}\">\\n{doc.page_content}\\n</Document>'\n",
    "            for doc in search_docs\n",
    "        ]\n",
    "    )\n",
    "\n",
    "    # 将搜索结果放入 state 的 context 中返回\n",
    "    return {\"context\": [formatted_search_docs]} \n",
    "\n",
    "\n",
    "def generate_answer(state):\n",
    "    \"\"\" 节点：根据上下文回答问题 \"\"\"\n",
    "\n",
    "    # 从 state 中获取上下文和问题\n",
    "    context = state[\"context\"]\n",
    "    question = state[\"question\"]\n",
    "\n",
    "    # 构造提示模板\n",
    "    answer_template = \"\"\"Answer the question {question} using this context: {context}\"\"\"\n",
    "    answer_instructions = answer_template.format(question=question, \n",
    "                                                 context=context)    \n",
    "    \n",
    "    # 调用 LLM：传入系统消息（指令）+ 用户消息（要求回答）\n",
    "    answer = llm.invoke([\n",
    "        SystemMessage(content=answer_instructions),\n",
    "        HumanMessage(content=\"Answer the question.\")\n",
    "    ])\n",
    "      \n",
    "    # 将答案添加到 state 中返回\n",
    "    return {\"answer\": answer}\n",
    "\n",
    "\n",
    "# 添加节点（每个节点是一个功能步骤）\n",
    "builder = StateGraph(State)\n",
    "\n",
    "builder.add_node(\"search_web\", search_web)          # 节点：网页搜索\n",
    "builder.add_node(\"search_wikipedia\", search_wikipedia)  # 节点：维基百科搜索\n",
    "builder.add_node(\"generate_answer\", generate_answer)    # 节点：生成答案\n",
    "\n",
    "# 定义流程（边）\n",
    "builder.add_edge(START, \"search_wikipedia\")   # 开始 → 维基百科搜索\n",
    "builder.add_edge(START, \"search_web\")         # 开始 → 网页搜索\n",
    "builder.add_edge(\"search_wikipedia\", \"generate_answer\") # 维基百科搜索 → 生成答案\n",
    "builder.add_edge(\"search_web\", \"generate_answer\")       # 网页搜索 → 生成答案\n",
    "builder.add_edge(\"generate_answer\", END)      # 生成答案 → 结束\n",
    "\n",
    "# 编译图\n",
    "graph = builder.compile()\n",
    "\n",
    "# 可视化流程图\n",
    "display(Image(graph.get_graph().draw_mermaid_png()))"
   ]
  },
  {
   "cell_type": "code",
   "execution_count": 17,
   "id": "fa544ca0-10af-491e-ad7a-477d004413eb",
   "metadata": {},
   "outputs": [
    {
     "name": "stderr",
     "output_type": "stream",
     "text": [
      "/var/folders/jz/2tg__xkj7fq6_dzmcc85dlvh0000gn/T/ipykernel_5990/3921850799.py:11: LangChainDeprecationWarning: The class `TavilySearchResults` was deprecated in LangChain 0.3.25 and will be removed in 1.0. An updated version of the class exists in the :class:`~langchain-tavily package and should be used instead. To use it run `pip install -U :class:`~langchain-tavily` and import as `from :class:`~langchain_tavily import TavilySearch``.\n",
      "  tavily_search = TavilySearchResults(max_results=3)\n"
     ]
    },
    {
     "data": {
      "text/plain": [
       "\"Nvidia's Q2 2024 earnings were strong, showcasing record revenue and a robust performance in its data center division. The company reported revenue of $30.0 billion, which was up 15% from the previous quarter and up 122% from a year ago. GAAP earnings per diluted share were $0.67, up 12% from the previous quarter and up 168% from a year ago, while non-GAAP earnings per diluted share were $0.68, up 11% from the previous quarter and up 152% from a year ago. Despite a slight dip in gross margin from 78% in Q1 to 75% in Q2, Nvidia remains a dominant force in the AI chip sector. Additionally, Nvidia returned $15.4 billion to shareholders through share repurchases and cash dividends and approved an additional $50.0 billion in share repurchase authorization.\""
      ]
     },
     "execution_count": 17,
     "metadata": {},
     "output_type": "execute_result"
    }
   ],
   "source": [
    "result = graph.invoke({\"question\": \"How were Nvidia's Q2 2024 earnings\"})\n",
    "result['answer'].content"
   ]
  },
  {
   "cell_type": "code",
   "execution_count": null,
   "id": "54da0234-bddb-4c5b-9b93-b75b7c824d3b",
   "metadata": {},
   "outputs": [],
   "source": [
    "## END"
   ]
  }
 ],
 "metadata": {
  "kernelspec": {
   "display_name": "Python 3",
   "language": "python",
   "name": "python3"
  },
  "language_info": {
   "codemirror_mode": {
    "name": "ipython",
    "version": 3
   },
   "file_extension": ".py",
   "mimetype": "text/x-python",
   "name": "python",
   "nbconvert_exporter": "python",
   "pygments_lexer": "ipython3",
   "version": "3.11.0"
  }
 },
 "nbformat": 4,
 "nbformat_minor": 5
}
