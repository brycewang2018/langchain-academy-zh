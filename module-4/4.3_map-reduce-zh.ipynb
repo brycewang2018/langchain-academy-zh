{
 "cells": [
  {
   "cell_type": "markdown",
   "id": "4cd4f701",
   "metadata": {},
   "source": [
    "[![Open in Colab](https://colab.research.google.com/assets/colab-badge.svg)](https://colab.research.google.com/github/langchain-ai/langchain-academy/blob/main/module-4/map-reduce.ipynb) [![Open in LangChain Academy](https://cdn.prod.website-files.com/65b8cd72835ceeacd4449a53/66e9eba12c7b7688aa3dbb5e_LCA-badge-green.svg)](https://academy.langchain.com/courses/take/intro-to-langgraph/lessons/58239947-lesson-3-map-reduce)"
   ]
  },
  {
   "cell_type": "markdown",
   "id": "65245ec2",
   "metadata": {},
   "source": [
    "英文原版：https://github.com/langchain-ai/langchain-academy/tree/main\n",
    "\n",
    "译者：Bryce Wang, brycewang2018@gmail.com"
   ]
  },
  {
   "cell_type": "markdown",
   "id": "36737349-c949-4d64-9aa3-3767cbd02ad1",
   "metadata": {},
   "source": [
    "# 映射-归约 (Map-reduce)\n",
    "\n",
    "## 回顾 (Review)\n",
    "\n",
    "我们正在构建一个多智能体研究助手，它将本课程中的所有模块结合起来。  \n",
    "\n",
    "为了构建这个多智能体助手，我们一直在介绍一些 LangGraph 的可控性主题。  \n",
    "\n",
    "我们刚刚学习了并行化 parallelization 和子图 sub-graphs。  \n",
    "\n",
    "## 目标 (Goals)\n",
    "\n",
    "现在，我们将学习 [映射-归约 (map reduce)](https://langchain-ai.github.io/langgraph/how-tos/map-reduce/)。"
   ]
  },
  {
   "cell_type": "code",
   "execution_count": 1,
   "id": "ff57cbf7",
   "metadata": {},
   "outputs": [],
   "source": [
    "%%capture --no-stderr\n",
    "## 让安装库时的大量下载信息不显示，但一旦出错，报错信息仍会显示出来\n",
    "## 环境准备\n",
    "\n",
    "## # 安装或升级所需的库\n",
    "%pip install -U  langgraph tavily-python wikipedia langchain_openai langchain_community langgraph_sdk\n",
    "\n",
    "## 方便用户输入 API Key\n",
    "import os, getpass\n",
    "\n",
    "def _set_env(var: str):\n",
    "    if not os.environ.get(var):\n",
    "        os.environ[var] = getpass.getpass(f\"{var}: \")\n",
    "\n",
    "_set_env(\"OPENAI_API_KEY\")"
   ]
  },
  {
   "cell_type": "markdown",
   "id": "cbcd868a",
   "metadata": {},
   "source": [
    "We'll use [LangSmith](https://docs.smith.langchain.com/) for [tracing](https://docs.smith.langchain.com/concepts/tracing)."
   ]
  },
  {
   "cell_type": "code",
   "execution_count": 2,
   "id": "9fdc647f",
   "metadata": {},
   "outputs": [],
   "source": [
    "#_set_env(\"LANGSMITH_API_KEY\")\n",
    "#os.environ[\"LANGSMITH_TRACING\"] = \"true\"\n",
    "#os.environ[\"LANGSMITH_PROJECT\"] = \"langchain-academy\""
   ]
  },
  {
   "cell_type": "markdown",
   "id": "2bbe9b9f-4375-4bca-8e32-7d57cb861469",
   "metadata": {},
   "source": [
    "## 问题 (Problem)\n",
    "\n",
    "映射-归约 (Map-reduce) 操作对于高效的任务分解和并行处理至关重要。  \n",
    "\n",
    "它包含两个阶段：  \n",
    "\n",
    "(1) `Map` —— 将一个任务拆分为更小的子任务，并行处理每个子任务。  \n",
    "\n",
    "(2) `Reduce` —— 汇总所有已完成的并行子任务的结果。  \n",
    "\n",
    "让我们设计一个系统来完成两件事：  \n",
    "\n",
    "(1) `Map` —— 围绕某个主题生成一组笑话。  \n",
    "\n",
    "(2) `Reduce` —— 从列表中挑选出最好的笑话。  \n",
    "\n",
    "我们将使用大语言模型 (LLM) 来完成笑话的生成和选择工作。"
   ]
  },
  {
   "cell_type": "code",
   "execution_count": 3,
   "id": "994cf903-1ed6-4ae2-b32a-7891a2808f81",
   "metadata": {},
   "outputs": [],
   "source": [
    "from langchain_openai import ChatOpenAI\n",
    "\n",
    "# Prompts we will use\n",
    "subjects_prompt = \"\"\"Generate a list of 3 sub-topics that are all related to this overall topic: {topic}.\"\"\"\n",
    "joke_prompt = \"\"\"Generate a joke about {subject}\"\"\"\n",
    "best_joke_prompt = \"\"\"Below are a bunch of jokes about {topic}. Select the best one! Return the ID of the best one, starting 0 as the ID for the first joke. Jokes: \\n\\n  {jokes}\"\"\"\n",
    "\n",
    "# LLM\n",
    "model = ChatOpenAI(model=\"gpt-4o\", temperature=0) "
   ]
  },
  {
   "cell_type": "markdown",
   "id": "f3b883cc-3469-4e96-b1a4-deadf7bf3ce5",
   "metadata": {},
   "source": [
    "## 状态 (State)\n",
    "\n",
    "### 并行化笑话生成 (Parallelizing joke generation)\n",
    "\n",
    "首先，让我们定义图的入口点，它将会：  \n",
    "\n",
    "* 接收用户输入的主题  \n",
    "* 根据输入生成一个笑话主题列表  \n",
    "* 将每个笑话主题发送到上面的笑话生成节点  \n",
    "\n",
    "我们的状态包含一个 `jokes` 键，用来收集并行生成的笑话。\n"
   ]
  },
  {
   "cell_type": "code",
   "execution_count": 4,
   "id": "099218ca-ee78-4291-95a1-87ee61382e3b",
   "metadata": {},
   "outputs": [],
   "source": [
    "# 导入 Python 内置的 operator 模块，这里主要用到加法运算符 (operator.add)，用于列表追加\n",
    "import operator\n",
    "\n",
    "# 从 typing 模块导入 Annotated，用于给类型添加额外的元信息（例如指定 reducer）\n",
    "from typing import Annotated\n",
    "\n",
    "# 从 typing_extensions 导入 TypedDict，用于定义字典类型的结构\n",
    "from typing_extensions import TypedDict\n",
    "\n",
    "# 从 pydantic 导入 BaseModel，用于定义和验证数据模型\n",
    "from pydantic import BaseModel\n",
    "\n",
    "\n",
    "# 定义一个 Pydantic 模型：Subjects，表示笑话的子主题集合\n",
    "class Subjects(BaseModel):\n",
    "    subjects: list[str]   # 包含多个主题的字符串列表\n",
    "\n",
    "\n",
    "# 定义一个 Pydantic 模型：BestJoke，表示最优笑话\n",
    "class BestJoke(BaseModel):\n",
    "    id: int   # 最优笑话的编号（整型）\n",
    "\n",
    "\n",
    "# 定义整个系统的状态结构：OverallState\n",
    "class OverallState(TypedDict):\n",
    "    topic: str                                # 用户输入的主题\n",
    "    subjects: list                            # 由主题拆分出的子主题列表\n",
    "    jokes: Annotated[list, operator.add]      # 并行生成的笑话，使用 operator.add 进行结果累加\n",
    "    best_selected_joke: str                   # 最终被选出的最佳笑话"
   ]
  },
  {
   "cell_type": "markdown",
   "id": "c7176d1c-4a88-4b0f-a960-ee04a45279bd",
   "metadata": {},
   "source": [
    "给笑话生成主题。"
   ]
  },
  {
   "cell_type": "code",
   "execution_count": 5,
   "id": "45010efd-ad31-4daa-b77e-aaec79ef0309",
   "metadata": {},
   "outputs": [],
   "source": [
    "def generate_topics(state: OverallState):\n",
    "    # 根据用户输入的主题构建提示词\n",
    "    prompt = subjects_prompt.format(topic=state[\"topic\"])\n",
    "    # 调用模型，并指定输出结构为 Subjects\n",
    "    response = model.with_structured_output(Subjects).invoke(prompt)\n",
    "    # 返回包含子主题的字典\n",
    "    return {\"subjects\": response.subjects}"
   ]
  },
  {
   "cell_type": "markdown",
   "id": "e5296bb0-c163-4e5c-8181-1e305b37442a",
   "metadata": {},
   "source": [
    "这里就是关键所在：我们使用 [Send](https://langchain-ai.github.io/langgraph/concepts/low_level/#send) 来为每个子主题生成一个笑话。  \n",
    "\n",
    "这非常有用！它可以自动并行地为任意数量的子主题生成笑话。  \n",
    "\n",
    "* `generate_joke`：图中节点的名称  \n",
    "* `{\"subject\": s}`：要发送的状态  \n",
    "\n",
    "`Send` 允许你将任意状态传递给 `generate_joke`！它不必与 `OverallState` 完全一致。  \n",
    "\n",
    "在这个例子中，`generate_joke` 使用它自己的内部状态，而我们可以通过 `Send` 来填充这个状态。"
   ]
  },
  {
   "cell_type": "code",
   "execution_count": 6,
   "id": "bc83e575-11f6-41a9-990a-adb571bcda06",
   "metadata": {},
   "outputs": [],
   "source": [
    "# 从 langgraph.types 导入 Send，用于向指定节点发送任务和状态\n",
    "from langgraph.types import Send\n",
    "\n",
    "# 定义函数：继续进入笑话生成阶段\n",
    "def continue_to_jokes(state: OverallState):\n",
    "    # 遍历 state 中的所有子主题 subjects，\n",
    "    # 为每个子主题创建一个 Send 对象，发送到 \"generate_joke\" 节点，\n",
    "    # 并传递 {\"subject\": s} 作为该节点的输入状态\n",
    "    return [Send(\"generate_joke\", {\"subject\": s}) for s in state[\"subjects\"]]"
   ]
  },
  {
   "cell_type": "markdown",
   "id": "9847192d-d358-411e-90c0-f06be0738717",
   "metadata": {},
   "source": [
    "### 笑话生成 (map)\n",
    "\n",
    "现在，我们只需要定义一个节点 `generate_joke` 来生成笑话！  \n",
    "\n",
    "我们把生成的笑话写回到 `OverallState` 中的 `jokes` 键里。  \n",
    "\n",
    "这个键有一个归约器 (reducer)，可以将多个列表合并起来。"
   ]
  },
  {
   "cell_type": "code",
   "execution_count": 7,
   "id": "bcddc567-73d3-4fb3-bfc5-1bea538f2aab",
   "metadata": {},
   "outputs": [],
   "source": [
    "# 定义笑话生成节点所需的输入状态结构\n",
    "class JokeState(TypedDict):\n",
    "    subject: str   # 输入的子主题（每个主题会单独生成一个笑话）\n",
    "\n",
    "# 定义 Pydantic 模型，用于约束笑话的输出结构\n",
    "class Joke(BaseModel):\n",
    "    joke: str      # 模型输出的笑话文本\n",
    "\n",
    "# 定义函数：根据子主题生成笑话\n",
    "def generate_joke(state: JokeState):\n",
    "    # 构造提示词，将当前子主题填入预定义的笑话 prompt 模板\n",
    "    prompt = joke_prompt.format(subject=state[\"subject\"])\n",
    "    # 调用大语言模型，并指定输出结构为 Joke，确保输出符合 schema\n",
    "    response = model.with_structured_output(Joke).invoke(prompt)\n",
    "    # 返回一个字典，将生成的笑话放入列表，并写入 \"jokes\" 键\n",
    "    return {\"jokes\": [response.joke]}\n"
   ]
  },
  {
   "cell_type": "markdown",
   "id": "02960657-d174-4076-99a8-b3f9eea015f4",
   "metadata": {},
   "source": [
    "### 最佳笑话选择 (reduce)\n",
    "\n",
    "现在，我们要添加逻辑来挑选出最好的笑话。"
   ]
  },
  {
   "cell_type": "code",
   "execution_count": 8,
   "id": "8d672870-75e3-4307-bda0-c41a86cbbaff",
   "metadata": {},
   "outputs": [],
   "source": [
    "# 定义节点函数：选择最佳笑话 (reduce 阶段)\n",
    "def best_joke(state: OverallState):\n",
    "    # 将所有生成的笑话拼接成一个字符串，每条笑话之间用两个换行分隔\n",
    "    jokes = \"\\n\\n\".join(state[\"jokes\"])\n",
    "    \n",
    "    # 构造提示词，将主题和所有笑话放入预定义的最佳笑话选择模板\n",
    "    prompt = best_joke_prompt.format(topic=state[\"topic\"], jokes=jokes)\n",
    "    \n",
    "    # 调用大语言模型，指定输出结构为 BestJoke（返回一个包含最佳笑话 id 的对象）\n",
    "    response = model.with_structured_output(BestJoke).invoke(prompt)\n",
    "    \n",
    "    # 根据模型返回的 id，从 jokes 列表中取出对应的笑话，作为最佳笑话返回\n",
    "    return {\"best_selected_joke\": state[\"jokes\"][response.id]}"
   ]
  },
  {
   "cell_type": "markdown",
   "id": "837cd12e-5bff-426e-97f4-c774df998cfb",
   "metadata": {},
   "source": [
    "## Compile"
   ]
  },
  {
   "cell_type": "code",
   "execution_count": 9,
   "id": "2ae6be4b-144e-483c-88ad-ce86d6477a0d",
   "metadata": {},
   "outputs": [
    {
     "data": {
      "image/png": "[encoded data removed]",
      "text/plain": [
       "<IPython.core.display.Image object>"
      ]
     },
     "execution_count": 9,
     "metadata": {},
     "output_type": "execute_result"
    }
   ],
   "source": [
    "# 导入 IPython.display 的 Image，用于显示图像\n",
    "from IPython.display import Image\n",
    "\n",
    "# 从 langgraph.graph 导入 END、StateGraph、START\n",
    "# StateGraph：用于构建状态驱动的图\n",
    "# START/END：表示图的起点和终点\n",
    "from langgraph.graph import END, StateGraph, START\n",
    "\n",
    "\n",
    "# 构建整个图：把前面定义的节点和逻辑组合在一起\n",
    "graph = StateGraph(OverallState)  # 使用 OverallState 作为图的状态结构\n",
    "\n",
    "# 添加节点：生成子主题\n",
    "graph.add_node(\"generate_topics\", generate_topics)\n",
    "\n",
    "# 添加节点：根据子主题生成笑话\n",
    "graph.add_node(\"generate_joke\", generate_joke)\n",
    "\n",
    "# 添加节点：选择最佳笑话\n",
    "graph.add_node(\"best_joke\", best_joke)\n",
    "\n",
    "# 添加边：从 START 到 generate_topics\n",
    "graph.add_edge(START, \"generate_topics\")\n",
    "\n",
    "# 添加条件边：从 generate_topics 到 generate_joke\n",
    "# continue_to_jokes 决定如何将每个子主题发送给 generate_joke\n",
    "graph.add_conditional_edges(\"generate_topics\", continue_to_jokes, [\"generate_joke\"])\n",
    "\n",
    "# 添加边：从 generate_joke 到 best_joke\n",
    "graph.add_edge(\"generate_joke\", \"best_joke\")\n",
    "\n",
    "# 添加边：从 best_joke 到 END\n",
    "graph.add_edge(\"best_joke\", END)\n",
    "\n",
    "\n",
    "# 编译图，得到可运行的应用对象\n",
    "app = graph.compile()\n",
    "\n",
    "# 将图结构绘制成 mermaid 格式的 PNG 图片并显示\n",
    "Image(app.get_graph().draw_mermaid_png())\n"
   ]
  },
  {
   "cell_type": "code",
   "execution_count": 10,
   "id": "e21dc7c9-0add-4125-be76-af701adb874a",
   "metadata": {},
   "outputs": [
    {
     "name": "stdout",
     "output_type": "stream",
     "text": [
      "{'generate_topics': {'subjects': ['Animal Behavior and Communication', 'Conservation and Endangered Species', 'Animal Habitats and Ecosystems']}}\n",
      "{'generate_joke': {'jokes': ['Why did the endangered species start a band?\\n\\nBecause they wanted to make some \"wild\" music and get on the \"endangered\" charts before they went extinct!']}}\n",
      "{'generate_joke': {'jokes': ['Why did the squirrel bring a suitcase to the forest?\\n\\nBecause it heard the ecosystem was \"tree-mendous\" and wanted to branch out!']}}\n",
      "{'generate_joke': {'jokes': ['Why did the parrot bring a ladder to the comedy club?\\n\\nBecause it wanted to reach the \"punchline\" in its jokes!']}}\n",
      "{'best_joke': {'best_selected_joke': 'Why did the parrot bring a ladder to the comedy club?\\n\\nBecause it wanted to reach the \"punchline\" in its jokes!'}}\n"
     ]
    }
   ],
   "source": [
    "# 调用图：这里我们传入一个主题 \"animals\"，让图生成一组笑话\n",
    "for s in app.stream({\"topic\": \"animals\"}):\n",
    "    # 打印流式输出的每个状态更新（每一步节点的执行结果都会被依次返回）\n",
    "    print(s)"
   ]
  },
  {
   "cell_type": "code",
   "execution_count": 11,
   "id": "4868d74e",
   "metadata": {},
   "outputs": [],
   "source": [
    "# END"
   ]
  }
 ],
 "metadata": {
  "kernelspec": {
   "display_name": "base",
   "language": "python",
   "name": "python3"
  },
  "language_info": {
   "codemirror_mode": {
    "name": "ipython",
    "version": 3
   },
   "file_extension": ".py",
   "mimetype": "text/x-python",
   "name": "python",
   "nbconvert_exporter": "python",
   "pygments_lexer": "ipython3",
   "version": "3.13.5"
  }
 },
 "nbformat": 4,
 "nbformat_minor": 5
}
