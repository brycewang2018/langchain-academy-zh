{
 "cells": [
  {
   "cell_type": "markdown",
   "metadata": {},
   "source": "# 创建 Deployment\n\n让我们创建一个 `task_maistro` 应用的 deployment，这是我们在 module 5 中创建的应用。\n\n## 代码结构\n\n要创建 LangGraph Platform deployment，[需要提供以下信息](https://langchain-ai.github.io/langgraph/concepts/application_structure/)：\n\n* 一个 [LangGraph API 配置文件](https://langchain-ai.github.io/langgraph/concepts/application_structure/#configuration-file) - `langgraph.json`\n* 实现应用逻辑的 graphs - 例如 `task_maistro.py`\n* 指定运行应用所需依赖的文件 - `requirements.txt`\n* 提供应用运行所需的环境变量 - `.env` 或 `docker-compose.yml`\n\n我们已经在 `module-6/deployment` 目录中准备好了这些文件！\n\n## CLI\n\n[LangGraph CLI](https://langchain-ai.github.io/langgraph/concepts/langgraph_cli/) 是用于创建 LangGraph Platform deployment 的命令行工具。"
  },
  {
   "cell_type": "code",
   "execution_count": null,
   "metadata": {},
   "outputs": [],
   "source": "%%capture --no-stderr\n# ================== 安装 LangGraph CLI ==================\n\n# LangGraph CLI 知识点:\n# - LangGraph CLI 是用于管理 LangGraph Platform deployments 的命令行工具\n# - 提供以下核心功能:\n#   1. langgraph build: 构建 Docker 镜像\n#   2. langgraph dev: 本地开发服务器\n#   3. langgraph up: 启动 deployment\n#\n# 为什么需要 CLI:\n# - 简化 deployment 流程\n# - 自动化 Docker 镜像构建\n# - 统一的开发和生产环境管理\n#\n# 安装说明:\n# - -U flag: 升级到最新版本\n# - langgraph-cli: CLI 工具包名称\n\n%pip install -U langgraph-cli"
  },
  {
   "cell_type": "markdown",
   "metadata": {},
   "source": "要创建[自托管 deployment](https://langchain-ai.github.io/langgraph/how-tos/deploy-self-hosted/#how-to-do-a-self-hosted-deployment-of-langgraph)，我们需要遵循以下几个步骤。\n\n### 为 LangGraph Server 构建 Docker 镜像\n\n首先，我们使用 langgraph CLI 为 [LangGraph Server](https://docs.google.com/presentation/d/18MwIaNR2m4Oba6roK_2VQcBE_8Jq_SI7VHTXJdl7raU/edit#slide=id.g313fb160676_0_32) 创建一个 Docker 镜像。\n\n这将把我们的 graph 和依赖项打包到一个 Docker 镜像中。\n\nDocker 镜像是 Docker 容器的模板，包含运行应用所需的代码和依赖项。\n\n确保已安装 [Docker](https://docs.docker.com/engine/install/)，然后运行以下命令创建 Docker 镜像 `my-image`：\n\n```\n$ cd module-6/deployment\n$ langgraph build -t my-image\n```\n\n### 设置 Redis 和 PostgreSQL\n\n如果你已经有运行中的 Redis 和 PostgreSQL（例如，在本地或其他服务器上），那么可以[单独](https://langchain-ai.github.io/langgraph/how-tos/deploy-self-hosted/#running-the-application-locally)创建并运行 LangGraph Server 容器，并提供 Redis 和 PostgreSQL 的 URIs：\n\n```\ndocker run \\\n    --env-file .env \\\n    -p 8123:8000 \\\n    -e REDIS_URI=\"foo\" \\\n    -e DATABASE_URI=\"bar\" \\\n    -e LANGSMITH_API_KEY=\"baz\" \\\n    my-image\n```\n\n或者，你可以使用提供的 `docker-compose.yml` 文件，基于定义的服务创建三个独立的容器：\n\n* `langgraph-redis`: 使用官方 Redis 镜像创建新容器\n* `langgraph-postgres`: 使用官方 Postgres 镜像创建新容器\n* `langgraph-api`: 使用你预构建的镜像创建新容器\n\n只需复制 `docker-compose-example.yml` 并添加以下环境变量来运行部署的 `task_maistro` 应用：\n\n* `IMAGE_NAME`（例如 `my-image`）\n* `LANGSMITH_API_KEY`\n* `OPENAI_API_KEY`\n\n然后，[启动 deployment](https://langchain-ai.github.io/langgraph/how-tos/deploy-self-hosted/#using-docker-compose)：\n\n```\n$ cd module-6/deployment\n$ docker compose up\n```"
  },
  {
   "cell_type": "markdown",
   "metadata": {},
   "source": []
  }
 ],
 "metadata": {
  "kernelspec": {
   "display_name": "Python 3 (ipykernel)",
   "language": "python",
   "name": "python3"
  },
  "language_info": {
   "codemirror_mode": {
    "name": "ipython",
    "version": 3
   },
   "file_extension": ".py",
   "mimetype": "text/x-python",
   "name": "python",
   "nbconvert_exporter": "python",
   "pygments_lexer": "ipython3",
   "version": "3.11.8"
  }
 },
 "nbformat": 4,
 "nbformat_minor": 4
}