{
 "cells": [
  {
   "cell_type": "markdown",
   "metadata": {},
   "source": "# Assistants\n\n[Assistants](https://langchain-ai.github.io/langgraph/concepts/assistants/#resources) 为开发者提供了一种快速简便的方法来修改和版本化 agents，以便进行实验。\n\n## 为 Graph 提供配置\n\n我们的 `task_maistro` graph 已经设置好使用 assistants 了！\n\n它定义了一个 `configuration.py` 文件并在 graph 中加载。\n\n我们在 graph 节点内部访问可配置字段（`user_id`、`todo_category`、`task_maistro_role`）。\n\n## 创建 Assistants\n\n那么，对于我们一直在构建的 `task_maistro` 应用，assistants 的实际使用场景是什么呢？\n\n对我来说，就是能够为不同类别的任务拥有独立的 ToDo 列表。\n\n例如，我希望一个 assistant 用于个人任务，另一个用于工作任务。\n\n这些都可以通过 `todo_category` 和 `task_maistro_role` 可配置字段轻松配置。\n\n![Screenshot 2024-11-18 at 9.35.55 AM.png](https://cdn.prod.website-files.com/65b8cd72835ceeacd4449a53/673d50597f4e9eae9abf4869_Screenshot%202024-11-19%20at%206.57.01%E2%80%AFPM.png)"
  },
  {
   "cell_type": "code",
   "execution_count": null,
   "metadata": {},
   "outputs": [],
   "source": "%%capture --no-stderr\n# ================== 安装 LangGraph SDK ==================\n\n# LangGraph SDK 知识点:\n# - LangGraph SDK 是用于与 LangGraph Platform 部署交互的 Python 客户端\n# - 提供以下核心功能:\n#   1. client.assistants: 管理 assistants (创建、更新、搜索、删除)\n#   2. client.threads: 管理对话线程\n#   3. client.runs: 执行 graph runs 并获取结果\n#   4. client.store: 访问持久化存储\n#\n# 与 LangGraph CLI 的区别:\n# - CLI: 用于构建和部署 (langgraph build, langgraph up)\n# - SDK: 用于与运行中的 deployment 交互\n#\n# 使用场景:\n# - 从 Python 代码中调用已部署的 graphs\n# - 管理 assistants 和 configurations\n# - 访问对话历史和状态\n# - 构建前端应用与 LangGraph Platform 集成\n#\n# 安装说明:\n# - -U flag: 升级到最新版本\n# - langgraph_sdk: SDK 包名称\n\n%pip install -U langgraph_sdk"
  },
  {
   "cell_type": "markdown",
   "metadata": {},
   "source": "这是我们部署 graph 时创建的默认 assistant。"
  },
  {
   "cell_type": "code",
   "execution_count": null,
   "metadata": {},
   "outputs": [],
   "source": "# ================== 连接到 LangGraph Platform Deployment ==================\n\nfrom langgraph_sdk import get_client\n\n# LangGraph SDK 知识点:\n# - get_client(): 创建 LangGraph Platform client\n# - client 是与 deployment 交互的主要接口\n# - 需要提供 deployment 的 URL\n#\n# 本地 deployment 的 URL:\n# - CLI deployment (docker compose): http://localhost:8123\n# - LangGraph Studio: http://localhost:2024\n#\n# 远程 deployment 的 URL:\n# - LangGraph Cloud: https://<deployment-id>.langchain.com\n# - 自托管: https://your-domain.com\n\nurl_for_cli_deployment = \"http://localhost:8123\"\n\n# 创建 client 实例\n# - 这个 client 可以用于:\n#   1. 管理 assistants (client.assistants)\n#   2. 创建和管理 threads (client.threads)\n#   3. 执行 graph runs (client.runs)\n#   4. 访问 store (client.store)\nclient = get_client(url=url_for_cli_deployment)"
  },
  {
   "cell_type": "markdown",
   "metadata": {},
   "source": "### Personal assistant\n\n这是我将用于管理个人任务的 personal assistant。"
  },
  {
   "cell_type": "code",
   "execution_count": null,
   "metadata": {},
   "outputs": [],
   "source": "# ================== 创建 Personal Assistant ==================\n\n# Assistant 知识点:\n# - Assistant 是 graph 的配置化实例\n# - 每个 assistant 有唯一的 assistant_id\n# - 可以为同一个 graph 创建多个 assistants，使用不同配置\n# - Assistants 存储在 PostgreSQL 中，可以跨会话持久化\n#\n# 为什么使用 Assistants:\n# - 为不同用例创建不同配置 (personal vs work)\n# - 版本化 agent 行为和配置\n# - 快速实验不同的系统提示词和参数\n# - 为不同用户或团队创建隔离的环境\n\n# Python 知识点:\n# - await: 异步等待函数完成\n# - LangGraph SDK 使用异步 I/O 以提高性能\n\npersonal_assistant = await client.assistants.create(\n    # 第一个参数: graph_id\n    # - \"task_maistro\" 是我们在 module 5 中创建并部署的 graph\n    # - 这个名称来自 deployment 配置 (langgraph.json)\n    \"task_maistro\",\n    \n    # config 参数: 可配置字段\n    # - 这些字段在 configuration.py 中定义\n    # - 会传递给 graph 节点使用\n    config={\"configurable\": {\"todo_category\": \"personal\"}}\n    \n    # 配置说明:\n    # - todo_category=\"personal\": 这个 assistant 管理个人任务\n    # - 与 \"work\" category 分开，实现任务隔离\n)\n\n# 打印 assistant 信息\n# - assistant_id: 唯一标识符\n# - graph_id: 关联的 graph\n# - config: 配置信息\n# - version: assistant 版本号（初始为 1）\nprint(personal_assistant)"
  },
  {
   "cell_type": "markdown",
   "metadata": {},
   "source": "让我们更新这个 assistant，为了方便起见添加我的 `user_id`，[创建它的新版本](https://langchain-ai.github.io/langgraph/cloud/how-tos/assistant_versioning/#create-a-new-version-for-your-assistant)。"
  },
  {
   "cell_type": "code",
   "execution_count": null,
   "metadata": {},
   "outputs": [],
   "source": "# ================== 定义 Personal Assistant 的系统提示词 ==================\n\n# Prompt Engineering 知识点:\n# - 系统提示词定义 assistant 的行为和个性\n# - 清晰的指令可以引导 model 按预期方式工作\n# - 包含具体示例和格式要求\n\ntask_maistro_role = \"\"\"You are a friendly and organized personal task assistant. Your main focus is helping users stay on top of their personal tasks and commitments. Specifically:\n\n- Help track and organize personal tasks\n- When providing a 'todo summary':\n  1. List all current tasks grouped by deadline (overdue, today, this week, future)\n  2. Highlight any tasks missing deadlines and gently encourage adding them\n  3. Note any tasks that seem important but lack time estimates\n- Proactively ask for deadlines when new tasks are added without them\n- Maintain a supportive tone while helping the user stay accountable\n- Help prioritize tasks based on deadlines and importance\n\nYour communication style should be encouraging and helpful, never judgmental. \n\nWhen tasks are missing deadlines, respond with something like \"I notice [task] doesn't have a deadline yet. Would you like to add one to help us track it better?\"\"\"\n\n# Personal Assistant 系统提示词设计要点:\n# - 友好和支持性的语气 (\"friendly and organized\", \"encouraging\")\n# - 主动提供帮助 (\"Proactively ask for deadlines\")\n# - 按截止日期分组任务 (overdue, today, this week, future)\n# - 温和地鼓励而非批评 (\"never judgmental\", \"gently encourage\")\n# - 提供具体的回应模板 (示例对话)\n\n# ========== 组合完整的 Assistant 配置 ==========\n\nconfigurations = {\n    # todo_category: 任务类别\n    # - \"personal\": 个人任务 (家庭、个人项目等)\n    # - 与 \"work\" 分开存储\n    \"todo_category\": \"personal\",\n    \n    # user_id: 用户标识符\n    # - 用于在 Store 中区分不同用户的数据\n    # - 对应 module 5 中的 namespace: (\"todo\", user_id)\n    \"user_id\": \"lance\",\n    \n    # task_maistro_role: agent 的系统提示词\n    # - 定义 agent 的行为和个性\n    # - 这是 Personal Assistant 特有的提示词\n    \"task_maistro_role\": task_maistro_role\n}\n\n# ================== 更新 Assistant ==================\n\n# Assistant 版本化知识点:\n# - 每次更新 assistant 都会创建新版本\n# - 版本号自动递增 (1 -> 2 -> 3...)\n# - 旧版本仍然保存在数据库中\n# - 可以回滚到之前的版本\n#\n# 为什么需要版本化:\n# - 实验不同的配置和提示词\n# - 回滚到之前工作正常的版本\n# - 追踪配置变更历史\n# - A/B 测试不同的 agent 行为\n\npersonal_assistant = await client.assistants.update(\n    # 第一个参数: assistant_id\n    # - 要更新的 assistant 的唯一标识符\n    # - 从创建时返回的 assistant 对象中获取\n    personal_assistant[\"assistant_id\"],\n    \n    # config 参数: 新的配置\n    # - 完全替换之前的配置\n    # - 这里添加了 user_id 和 task_maistro_role\n    config={\"configurable\": configurations}\n)\n\n# 打印更新后的 assistant\n# - 注意 version 字段从 1 变为 2\n# - config 现在包含所有三个字段\n# - created_at 和 updated_at 时间戳不同\nprint(personal_assistant)\n\n# 输出示例:\n# {\n#   'assistant_id': 'e6ab9c39-4b56-4db9-bb39-a71484c5d408',\n#   'graph_id': 'task_maistro',\n#   'version': 2,  # ← 版本号递增\n#   'config': {\n#     'configurable': {\n#       'user_id': 'lance',\n#       'todo_category': 'personal',\n#       'task_maistro_role': '...'  # ← 新增字段\n#     }\n#   }\n# }"
  },
  {
   "cell_type": "markdown",
   "metadata": {},
   "source": "### Work assistant\n\n现在，让我们创建一个 work assistant。我将用它来管理我的工作任务。"
  },
  {
   "cell_type": "code",
   "execution_count": null,
   "metadata": {},
   "outputs": [],
   "source": "# ================== 定义 Work Assistant 的系统提示词 ==================\n\n# Work Assistant vs Personal Assistant 对比:\n# - Work: 更注重效率、现实时间框架、团队依赖\n# - Personal: 更注重支持性、鼓励、个人责任\n#\n# Prompt Engineering 差异化要点:\n# - \"focused and efficient\" vs \"friendly and organized\"\n# - 提供具体的任务类型时间估算\n# - \"professional tone\" vs \"encouraging and helpful\"\n# - 考虑团队依赖关系\n\ntask_maistro_role = \"\"\"You are a focused and efficient work task assistant. \n\nYour main focus is helping users manage their work commitments with realistic timeframes. \n\nSpecifically:\n\n- Help track and organize work tasks\n- When providing a 'todo summary':\n  1. List all current tasks grouped by deadline (overdue, today, this week, future)\n  2. Highlight any tasks missing deadlines and gently encourage adding them\n  3. Note any tasks that seem important but lack time estimates\n- When discussing new tasks, suggest that the user provide realistic time-frames based on task type:\n  • Developer Relations features: typically 1 day\n  • Course lesson reviews/feedback: typically 2 days\n  • Documentation sprints: typically 3 days\n- Help prioritize tasks based on deadlines and team dependencies\n- Maintain a professional tone while helping the user stay accountable\n\nYour communication style should be supportive but practical. \n\nWhen tasks are missing deadlines, respond with something like \"I notice [task] doesn't have a deadline yet. Based on similar tasks, this might take [suggested timeframe]. Would you like to set a deadline with this in mind?\"\"\"\n\n# Work Assistant 系统提示词设计要点:\n# - 实用和高效的方法 (\"focused\", \"realistic timeframes\")\n# - 基于任务类型的具体时间建议 (1-3 days)\n# - 考虑团队依赖 (\"team dependencies\")\n# - 专业但支持性的语气 (\"professional\", \"supportive but practical\")\n# - 提供数据驱动的建议 (\"Based on similar tasks\")\n\n# ========== 组合 Work Assistant 配置 ==========\n\nconfigurations = {\n    # todo_category: \"work\"\n    # - 工作任务 (项目、会议、开发任务等)\n    # - 与 \"personal\" 完全隔离\n    \"todo_category\": \"work\",\n    \n    # user_id: 相同的用户\n    # - 同一个用户可以有多个 assistants\n    # - 通过 todo_category 区分\n    \"user_id\": \"lance\",\n    \n    # task_maistro_role: Work Assistant 专用提示词\n    # - 与 Personal Assistant 的提示词完全不同\n    # - 针对工作场景优化\n    \"task_maistro_role\": task_maistro_role\n}\n\n# ================== 创建 Work Assistant ==================\n\n# 注意: 这里使用 create() 而非 update()\n# - 这是一个全新的 assistant\n# - 与 Personal Assistant 并存\n# - 有独立的 assistant_id\n# - 版本号从 1 开始\n\nwork_assistant = await client.assistants.create(\n    # 相同的 graph_id\n    # - Personal 和 Work assistants 使用同一个 graph\n    # - 通过配置实现不同的行为\n    \"task_maistro\",\n    \n    # Work-specific 配置\n    config={\"configurable\": configurations}\n)\n\n# 打印 Work Assistant 信息\n# - 新的 assistant_id (与 Personal 不同)\n# - version: 1 (新 assistant)\n# - config 包含 work-specific 配置\nprint(work_assistant)\n\n# 多 Assistant 架构的优势:\n# - 任务隔离: personal 和 work todos 分开\n# - 行为差异化: 不同的系统提示词和优先级逻辑\n# - 灵活扩展: 可以轻松添加更多类别 (家庭、项目等)\n# - 用户体验: 用户可以在不同 context 之间切换"
  },
  {
   "cell_type": "markdown",
   "metadata": {},
   "source": "## 使用 Assistants\n\nAssistants 将保存到我们 deployment 中的 `Postgres` 数据库。\n\n这使我们可以使用 SDK 轻松[搜索](https://langchain-ai.github.io/langgraph/cloud/how-tos/configuration_cloud/) assistants。"
  },
  {
   "cell_type": "code",
   "execution_count": null,
   "metadata": {},
   "outputs": [],
   "source": "# ================== 搜索所有 Assistants ==================\n\n# client.assistants.search() 知识点:\n# - 返回所有 assistants 的列表\n# - Assistants 存储在 PostgreSQL 数据库中\n# - 可以跨会话持久化\n# - 支持按条件过滤（这里返回所有）\n\nassistants = await client.assistants.search()\n\n# 遍历并打印关键信息\nfor assistant in assistants:\n    print({\n        'assistant_id': assistant['assistant_id'],  # 唯一标识符\n        'version': assistant['version'],  # 版本号\n        'config': assistant['config']  # 配置信息（包含 user_id, category, role）\n    })\n\n# 输出示例:\n# - 可能看到多个 assistants\n# - Personal assistant (todo_category='personal')\n# - Work assistant (todo_category='work')\n# - 可能还有之前创建的其他 assistants"
  },
  {
   "cell_type": "markdown",
   "metadata": {},
   "source": "我们可以使用 SDK 轻松管理它们。例如，我们可以删除不再使用的 assistants。\n> 视频中的语法略有偏差。下面更新的代码创建了一个临时 assistant 然后删除它。"
  },
  {
   "cell_type": "code",
   "execution_count": null,
   "metadata": {},
   "outputs": [],
   "source": "# ================== 演示删除 Assistant ==================\n\n# 创建临时 assistant 用于演示\ntemp_assistant = await client.assistants.create(\n    \"task_maistro\",\n    config={\"configurable\": configurations}\n)\n\n# 删除前: 显示所有 assistants\nassistants = await client.assistants.search()\nfor assistant in assistants:\n    print(f\"before delete: {{'assistant_id': {assistant['assistant_id']}}}\")\n\n# ========== 删除 Assistant ==========\n\n# client.assistants.delete() 知识点:\n# - 永久删除 assistant 及其所有版本\n# - 不会删除使用该 assistant 创建的 threads\n# - 不会删除 threads 中的对话历史\n# - 只是删除 assistant 配置本身\n\nawait client.assistants.delete(assistants[-1][\"assistant_id\"])  # 删除最后一个（临时）\nprint()\n\n# 删除后: 显示剩余 assistants\nassistants = await client.assistants.search()\nfor assistant in assistants:\n    print(f\"after delete: {{'assistant_id': {assistant['assistant_id']} }}\")\n\n# Assistant 管理最佳实践:\n# - 定期清理不再使用的 assistants\n# - 使用描述性的 name 字段（这里未使用）\n# - 保持 assistant 数量可管理\n# - 考虑使用命名约定区分不同类型"
  },
  {
   "cell_type": "markdown",
   "metadata": {},
   "source": "让我们设置 `personal` 和 `work` assistants 的 assistant IDs，我将使用它们。"
  },
  {
   "cell_type": "code",
   "execution_count": null,
   "metadata": {},
   "outputs": [],
   "source": "# ================== 设置要使用的 Assistant IDs ==================\n\n# 从搜索结果中提取 assistant IDs\n# - assistants[0]: Work assistant\n# - assistants[1]: Personal assistant\n#\n# 注意: 索引可能因创建顺序而异\n# 最佳实践: 通过 config 匹配而非索引\n\nwork_assistant_id = assistants[0]['assistant_id']\npersonal_assistant_id = assistants[1]['assistant_id']\n\n# 这些 IDs 将在后续 cells 中用于:\n# - 创建 threads\n# - 执行 runs\n# - 与特定 assistant 交互"
  },
  {
   "cell_type": "markdown",
   "metadata": {},
   "source": "### Work assistant\n\n让我们为 work assistant 添加一些 ToDos。"
  },
  {
   "cell_type": "code",
   "execution_count": null,
   "metadata": {},
   "outputs": [],
   "source": "# ================== 与 Work Assistant 交互 - 创建 ToDos ==================\n\nfrom langchain_core.messages import HumanMessage\nfrom langchain_core.messages import convert_to_messages\n\n# 用户输入: 创建或更新几个工作任务\nuser_input = \"Create or update few ToDos: 1) Re-film Module 6, lesson 5 by end of day today. 2) Update audioUX by next Monday.\"\n\n# ========== 创建新 Thread ==========\n# Thread 知识点:\n# - Thread 代表一个对话会话\n# - 每个 thread 有独立的对话历史\n# - 存储在 PostgreSQL 中\n# - 与 assistant 关联使用\nthread = await client.threads.create()\n\n# ========== 执行 Run 并流式输出 ==========\n# client.runs.stream() 知识点:\n# - 异步流式执行 graph\n# - 实时获取中间结果\n# - stream_mode=\"values\": 返回完整状态\n# - 每个 chunk 包含当前所有 messages\n\nasync for chunk in client.runs.stream(\n    thread[\"thread_id\"],  # 对话线程 ID\n    work_assistant_id,  # 使用 Work Assistant\n    input={\"messages\": [HumanMessage(content=user_input)]},  # 用户消息\n    stream_mode=\"values\"  # 流式模式\n):\n    if chunk.event == 'values':\n        state = chunk.data\n        # 打印最新消息\n        # - Human: 用户输入\n        # - AI: agent 响应\n        # - Tool: tool 执行结果\n        convert_to_messages(state[\"messages\"])[-1].pretty_print()\n\n# 预期行为:\n# - Work Assistant 分析任务\n# - 调用 UpdateMemory tool (update_type='todo')\n# - 根据系统提示词提供专业的响应\n# - 可能建议时间估算（基于任务类型）"
  },
  {
   "cell_type": "code",
   "execution_count": null,
   "metadata": {},
   "outputs": [],
   "source": "# ================== 继续对话 - 创建另一个 ToDo ==================\n\n# 用户输入: 创建另一个任务\nuser_input = \"Create another ToDo: Finalize set of report generation tutorials.\"\n\n# 注意: 使用新的 thread\n# - 每次创建新 thread 代表新对话\n# - 不会保留之前 thread 的对话历史\n# - 但 assistant 配置保持不变\n# - ToDo 数据通过 Store 跨 threads 持久化\nthread = await client.threads.create()\n\nasync for chunk in client.runs.stream(\n    thread[\"thread_id\"],\n    work_assistant_id,\n    input={\"messages\": [HumanMessage(content=user_input)]},\n    stream_mode=\"values\"\n):\n    if chunk.event == 'values':\n        state = chunk.data\n        convert_to_messages(state[\"messages\"])[-1].pretty_print()\n\n# Work Assistant 特点:\n# - 注意它如何根据系统提示词行为\n# - 可能提供基于任务类型的时间估算\n# - 专业但支持性的语气"
  },
  {
   "cell_type": "markdown",
   "metadata": {},
   "source": "Assistant 使用它的 instructions 来引导任务创建！\n\n它要求我指定截止日期 :)"
  },
  {
   "cell_type": "code",
   "execution_count": null,
   "metadata": {},
   "outputs": [],
   "source": "# ================== 在同一 Thread 中更新 ToDo ==================\n\n# 用户输入: 为任务设置截止日期\nuser_input = \"OK, for this task let's get it done by next Tuesday.\"\n\n# 关键区别: 使用同一个 thread\n# - 保留对话上下文\n# - Assistant 知道\"this task\"指的是哪个任务\n# - 这是 thread 的价值所在: 上下文感知\n\nasync for chunk in client.runs.stream(\n    thread[\"thread_id\"],  # ← 相同的 thread_id\n    work_assistant_id,\n    input={\"messages\": [HumanMessage(content=user_input)]},\n    stream_mode=\"values\"\n):\n    if chunk.event == 'values':\n        state = chunk.data\n        convert_to_messages(state[\"messages\"])[-1].pretty_print()\n\n# Thread vs Store 的区别:\n# - Thread: 对话历史（短期记忆）\n#   - 只在当前会话中有效\n#   - 用于理解上下文引用（\"this task\", \"that one\"）\n#\n# - Store: 数据持久化（长期记忆）\n#   - 跨所有 threads 共享\n#   - 存储 todos, profile 等数据\n#   - 即使在新 thread 中也可访问"
  },
  {
   "cell_type": "markdown",
   "metadata": {},
   "source": "### Personal assistant\n\n同样，我们可以为 personal assistant 添加 ToDos。"
  },
  {
   "cell_type": "code",
   "execution_count": null,
   "metadata": {},
   "outputs": [],
   "source": "# ================== 与 Personal Assistant 交互 ==================\n\n# 用户输入: 创建个人任务\nuser_input = \"Create ToDos: 1) Check on swim lessons for the baby this weekend. 2) For winter travel, check AmEx points.\"\n\n# 创建新 thread 用于 Personal Assistant\nthread = await client.threads.create()\n\nasync for chunk in client.runs.stream(\n    thread[\"thread_id\"],\n    personal_assistant_id,  # ← 使用 Personal Assistant\n    input={\"messages\": [HumanMessage(content=user_input)]},\n    stream_mode=\"values\"\n):\n    if chunk.event == 'values':\n        state = chunk.data\n        convert_to_messages(state[\"messages\"])[-1].pretty_print()\n\n# Personal vs Work Assistant 行为对比:\n# - Personal: 友好、鼓励、温和提醒\n#   - \"Would you like to add a deadline?\"\n#   - 支持性语气\n#\n# - Work: 专业、实用、基于数据的建议\n#   - \"Based on similar tasks, this might take...\"\n#   - 提供具体时间估算\n#\n# 相同点:\n# - 都管理 ToDos\n# - 都使用相同的 graph (task_maistro)\n# - 都访问相同的 Store 结构\n#\n# 不同点:\n# - todo_category 不同 (personal vs work)\n# - 系统提示词完全不同\n# - 行为和语气差异化"
  },
  {
   "cell_type": "code",
   "execution_count": null,
   "metadata": {},
   "outputs": [],
   "source": "# ================== 获取 ToDo Summary ==================\n\n# 用户输入: 请求任务摘要\nuser_input = \"Give me a todo summary.\"\n\n# 创建新 thread\n# - 这个 thread 不包含之前的对话历史\n# - 但 Personal Assistant 仍然可以访问所有 personal todos\n# - 因为 todos 存储在 Store 中（跨 threads）\nthread = await client.threads.create()\n\nasync for chunk in client.runs.stream(\n    thread[\"thread_id\"],\n    personal_assistant_id,\n    input={\"messages\": [HumanMessage(content=user_input)]},\n    stream_mode=\"values\"\n):\n    if chunk.event == 'values':\n        state = chunk.data\n        convert_to_messages(state[\"messages\"])[-1].pretty_print()\n\n# Assistant 的 ToDo Summary 功能:\n# - 按截止日期分组 (overdue, today, this week, future)\n# - 高亮缺少截止日期的任务\n# - 注意缺少时间估算的任务\n# - 根据系统提示词调整语气和建议\n#\n# 这个功能在两个 assistants 中:\n# - Personal: 温和鼓励添加截止日期\n# - Work: 提供基于历史的时间估算建议\n#\n# Assistants 的价值总结:\n# - 同一个 graph，不同的配置和行为\n# - 版本化和实验友好\n# - 轻松实现多用户、多场景支持\n# - 通过 config 实现灵活的个性化"
  }
 ],
 "metadata": {
  "kernelspec": {
   "display_name": "Python 3 (ipykernel)",
   "language": "python",
   "name": "python3"
  },
  "language_info": {
   "codemirror_mode": {
    "name": "ipython",
    "version": 3
   },
   "file_extension": ".py",
   "mimetype": "text/x-python",
   "name": "python",
   "nbconvert_exporter": "python",
   "pygments_lexer": "ipython3",
   "version": "3.11.13"
  }
 },
 "nbformat": 4,
 "nbformat_minor": 4
}